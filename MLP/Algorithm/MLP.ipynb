{
 "cells": [
  {
   "cell_type": "code",
   "execution_count": 1,
   "metadata": {},
   "outputs": [
    {
     "name": "stderr",
     "output_type": "stream",
     "text": [
      "/Users/geyang/anaconda3/lib/python3.6/site-packages/h5py/__init__.py:36: FutureWarning: Conversion of the second argument of issubdtype from `float` to `np.floating` is deprecated. In future, it will be treated as `np.float64 == np.dtype(float).type`.\n",
      "  from ._conv import register_converters as _register_converters\n"
     ]
    }
   ],
   "source": [
    "import numpy as np\n",
    "import matplotlib.pyplot as pl\n",
    "from matplotlib import animation\n",
    "from mlp import MLP\n",
    "from activation import Activation\n",
    "from hiddenlayer import HiddenLayer\n",
    "import time\n",
    "import h5py"
   ]
  },
  {
   "cell_type": "markdown",
   "metadata": {},
   "source": [
    "# Helper functions \n",
    "### 1. One Hot Encoding"
   ]
  },
  {
   "cell_type": "code",
   "execution_count": 2,
   "metadata": {},
   "outputs": [],
   "source": [
    "def to_cate(label):\n",
    "    label_new = np.zeros((len(label),10))\n",
    "    for i in range(len(label)):\n",
    "        a = label[i]\n",
    "        label_new[i][a] = 1\n",
    "    return label_new"
   ]
  },
  {
   "cell_type": "markdown",
   "metadata": {},
   "source": [
    "### 2. Split data to training and testing"
   ]
  },
  {
   "cell_type": "code",
   "execution_count": 3,
   "metadata": {},
   "outputs": [],
   "source": [
    "def split(data, label, test_size=1/6):\n",
    "    num_samples = data.shape[0]\n",
    "    permutation = np.random.permutation(num_samples)\n",
    "    \n",
    "    train_size = int(num_samples*(1-test_size))\n",
    "    \n",
    "    train_idx = permutation[0:train_size]\n",
    "    test_idx = permutation[train_size-1:-1]\n",
    "    \n",
    "    return data[train_idx],data[test_idx],label[train_idx],label[test_idx]\n",
    "    "
   ]
  },
  {
   "cell_type": "markdown",
   "metadata": {},
   "source": [
    "# Load data"
   ]
  },
  {
   "cell_type": "code",
   "execution_count": 4,
   "metadata": {},
   "outputs": [
    {
     "ename": "OSError",
     "evalue": "Unable to open file (unable to open file: name = '../Input/train_128.h5', errno = 2, error message = 'No such file or directory', flags = 0, o_flags = 0)",
     "output_type": "error",
     "traceback": [
      "\u001b[0;31m---------------------------------------------------------------------------\u001b[0m",
      "\u001b[0;31mOSError\u001b[0m                                   Traceback (most recent call last)",
      "\u001b[0;32m<ipython-input-4-fad7b6805167>\u001b[0m in \u001b[0;36m<module>\u001b[0;34m()\u001b[0m\n\u001b[0;32m----> 1\u001b[0;31m \u001b[0;32mwith\u001b[0m \u001b[0mh5py\u001b[0m\u001b[0;34m.\u001b[0m\u001b[0mFile\u001b[0m\u001b[0;34m(\u001b[0m\u001b[0;34m'../Input/train_128.h5'\u001b[0m\u001b[0;34m,\u001b[0m\u001b[0;34m'r'\u001b[0m\u001b[0;34m)\u001b[0m \u001b[0;32mas\u001b[0m \u001b[0mH\u001b[0m\u001b[0;34m:\u001b[0m\u001b[0;34m\u001b[0m\u001b[0m\n\u001b[0m\u001b[1;32m      2\u001b[0m     \u001b[0mdata\u001b[0m \u001b[0;34m=\u001b[0m \u001b[0mnp\u001b[0m\u001b[0;34m.\u001b[0m\u001b[0mcopy\u001b[0m\u001b[0;34m(\u001b[0m\u001b[0mH\u001b[0m\u001b[0;34m[\u001b[0m\u001b[0;34m'data'\u001b[0m\u001b[0;34m]\u001b[0m\u001b[0;34m)\u001b[0m\u001b[0;34m\u001b[0m\u001b[0m\n\u001b[1;32m      3\u001b[0m \u001b[0;32mwith\u001b[0m \u001b[0mh5py\u001b[0m\u001b[0;34m.\u001b[0m\u001b[0mFile\u001b[0m\u001b[0;34m(\u001b[0m\u001b[0;34m'../Input/train_label.h5'\u001b[0m\u001b[0;34m,\u001b[0m\u001b[0;34m'r'\u001b[0m\u001b[0;34m)\u001b[0m \u001b[0;32mas\u001b[0m \u001b[0mH\u001b[0m\u001b[0;34m:\u001b[0m\u001b[0;34m\u001b[0m\u001b[0m\n\u001b[1;32m      4\u001b[0m     \u001b[0mlabel\u001b[0m \u001b[0;34m=\u001b[0m \u001b[0mnp\u001b[0m\u001b[0;34m.\u001b[0m\u001b[0mcopy\u001b[0m\u001b[0;34m(\u001b[0m\u001b[0mH\u001b[0m\u001b[0;34m[\u001b[0m\u001b[0;34m'label'\u001b[0m\u001b[0;34m]\u001b[0m\u001b[0;34m)\u001b[0m\u001b[0;34m\u001b[0m\u001b[0m\n\u001b[1;32m      5\u001b[0m \u001b[0mprint\u001b[0m\u001b[0;34m(\u001b[0m\u001b[0mnp\u001b[0m\u001b[0;34m.\u001b[0m\u001b[0munique\u001b[0m\u001b[0;34m(\u001b[0m\u001b[0mlabel\u001b[0m\u001b[0;34m)\u001b[0m\u001b[0;34m)\u001b[0m\u001b[0;34m\u001b[0m\u001b[0m\n",
      "\u001b[0;32m~/anaconda3/lib/python3.6/site-packages/h5py/_hl/files.py\u001b[0m in \u001b[0;36m__init__\u001b[0;34m(self, name, mode, driver, libver, userblock_size, swmr, **kwds)\u001b[0m\n\u001b[1;32m    267\u001b[0m             \u001b[0;32mwith\u001b[0m \u001b[0mphil\u001b[0m\u001b[0;34m:\u001b[0m\u001b[0;34m\u001b[0m\u001b[0m\n\u001b[1;32m    268\u001b[0m                 \u001b[0mfapl\u001b[0m \u001b[0;34m=\u001b[0m \u001b[0mmake_fapl\u001b[0m\u001b[0;34m(\u001b[0m\u001b[0mdriver\u001b[0m\u001b[0;34m,\u001b[0m \u001b[0mlibver\u001b[0m\u001b[0;34m,\u001b[0m \u001b[0;34m**\u001b[0m\u001b[0mkwds\u001b[0m\u001b[0;34m)\u001b[0m\u001b[0;34m\u001b[0m\u001b[0m\n\u001b[0;32m--> 269\u001b[0;31m                 \u001b[0mfid\u001b[0m \u001b[0;34m=\u001b[0m \u001b[0mmake_fid\u001b[0m\u001b[0;34m(\u001b[0m\u001b[0mname\u001b[0m\u001b[0;34m,\u001b[0m \u001b[0mmode\u001b[0m\u001b[0;34m,\u001b[0m \u001b[0muserblock_size\u001b[0m\u001b[0;34m,\u001b[0m \u001b[0mfapl\u001b[0m\u001b[0;34m,\u001b[0m \u001b[0mswmr\u001b[0m\u001b[0;34m=\u001b[0m\u001b[0mswmr\u001b[0m\u001b[0;34m)\u001b[0m\u001b[0;34m\u001b[0m\u001b[0m\n\u001b[0m\u001b[1;32m    270\u001b[0m \u001b[0;34m\u001b[0m\u001b[0m\n\u001b[1;32m    271\u001b[0m                 \u001b[0;32mif\u001b[0m \u001b[0mswmr_support\u001b[0m\u001b[0;34m:\u001b[0m\u001b[0;34m\u001b[0m\u001b[0m\n",
      "\u001b[0;32m~/anaconda3/lib/python3.6/site-packages/h5py/_hl/files.py\u001b[0m in \u001b[0;36mmake_fid\u001b[0;34m(name, mode, userblock_size, fapl, fcpl, swmr)\u001b[0m\n\u001b[1;32m     97\u001b[0m         \u001b[0;32mif\u001b[0m \u001b[0mswmr\u001b[0m \u001b[0;32mand\u001b[0m \u001b[0mswmr_support\u001b[0m\u001b[0;34m:\u001b[0m\u001b[0;34m\u001b[0m\u001b[0m\n\u001b[1;32m     98\u001b[0m             \u001b[0mflags\u001b[0m \u001b[0;34m|=\u001b[0m \u001b[0mh5f\u001b[0m\u001b[0;34m.\u001b[0m\u001b[0mACC_SWMR_READ\u001b[0m\u001b[0;34m\u001b[0m\u001b[0m\n\u001b[0;32m---> 99\u001b[0;31m         \u001b[0mfid\u001b[0m \u001b[0;34m=\u001b[0m \u001b[0mh5f\u001b[0m\u001b[0;34m.\u001b[0m\u001b[0mopen\u001b[0m\u001b[0;34m(\u001b[0m\u001b[0mname\u001b[0m\u001b[0;34m,\u001b[0m \u001b[0mflags\u001b[0m\u001b[0;34m,\u001b[0m \u001b[0mfapl\u001b[0m\u001b[0;34m=\u001b[0m\u001b[0mfapl\u001b[0m\u001b[0;34m)\u001b[0m\u001b[0;34m\u001b[0m\u001b[0m\n\u001b[0m\u001b[1;32m    100\u001b[0m     \u001b[0;32melif\u001b[0m \u001b[0mmode\u001b[0m \u001b[0;34m==\u001b[0m \u001b[0;34m'r+'\u001b[0m\u001b[0;34m:\u001b[0m\u001b[0;34m\u001b[0m\u001b[0m\n\u001b[1;32m    101\u001b[0m         \u001b[0mfid\u001b[0m \u001b[0;34m=\u001b[0m \u001b[0mh5f\u001b[0m\u001b[0;34m.\u001b[0m\u001b[0mopen\u001b[0m\u001b[0;34m(\u001b[0m\u001b[0mname\u001b[0m\u001b[0;34m,\u001b[0m \u001b[0mh5f\u001b[0m\u001b[0;34m.\u001b[0m\u001b[0mACC_RDWR\u001b[0m\u001b[0;34m,\u001b[0m \u001b[0mfapl\u001b[0m\u001b[0;34m=\u001b[0m\u001b[0mfapl\u001b[0m\u001b[0;34m)\u001b[0m\u001b[0;34m\u001b[0m\u001b[0m\n",
      "\u001b[0;32mh5py/_objects.pyx\u001b[0m in \u001b[0;36mh5py._objects.with_phil.wrapper\u001b[0;34m()\u001b[0m\n",
      "\u001b[0;32mh5py/_objects.pyx\u001b[0m in \u001b[0;36mh5py._objects.with_phil.wrapper\u001b[0;34m()\u001b[0m\n",
      "\u001b[0;32mh5py/h5f.pyx\u001b[0m in \u001b[0;36mh5py.h5f.open\u001b[0;34m()\u001b[0m\n",
      "\u001b[0;31mOSError\u001b[0m: Unable to open file (unable to open file: name = '../Input/train_128.h5', errno = 2, error message = 'No such file or directory', flags = 0, o_flags = 0)"
     ]
    }
   ],
   "source": [
    "with h5py.File('../Input/train_128.h5','r') as H: \n",
    "    data = np.copy(H['data'])\n",
    "with h5py.File('../Input/train_label.h5','r') as H:\n",
    "    label = np.copy(H['label'])\n",
    "print(np.unique(label))\n",
    "print(data.shape)\n",
    "print(label.shape)"
   ]
  },
  {
   "cell_type": "markdown",
   "metadata": {},
   "source": [
    "# Split dataset to training and testing"
   ]
  },
  {
   "cell_type": "code",
   "execution_count": 5,
   "metadata": {},
   "outputs": [
    {
     "ename": "NameError",
     "evalue": "name 'data' is not defined",
     "output_type": "error",
     "traceback": [
      "\u001b[0;31m---------------------------------------------------------------------------\u001b[0m",
      "\u001b[0;31mNameError\u001b[0m                                 Traceback (most recent call last)",
      "\u001b[0;32m<ipython-input-5-1ef79825b810>\u001b[0m in \u001b[0;36m<module>\u001b[0;34m()\u001b[0m\n\u001b[0;32m----> 1\u001b[0;31m \u001b[0mX_train\u001b[0m\u001b[0;34m,\u001b[0m \u001b[0mX_test\u001b[0m\u001b[0;34m,\u001b[0m \u001b[0my_train\u001b[0m\u001b[0;34m,\u001b[0m \u001b[0my_test\u001b[0m \u001b[0;34m=\u001b[0m \u001b[0msplit\u001b[0m\u001b[0;34m(\u001b[0m\u001b[0mdata\u001b[0m\u001b[0;34m,\u001b[0m \u001b[0mlabel\u001b[0m\u001b[0;34m,\u001b[0m \u001b[0mtest_size\u001b[0m\u001b[0;34m=\u001b[0m\u001b[0;36m0.2\u001b[0m\u001b[0;34m)\u001b[0m\u001b[0;34m\u001b[0m\u001b[0m\n\u001b[0m\u001b[1;32m      2\u001b[0m \u001b[0mprint\u001b[0m\u001b[0;34m(\u001b[0m\u001b[0mX_train\u001b[0m\u001b[0;34m.\u001b[0m\u001b[0mshape\u001b[0m\u001b[0;34m)\u001b[0m\u001b[0;34m\u001b[0m\u001b[0m\n\u001b[1;32m      3\u001b[0m \u001b[0mprint\u001b[0m\u001b[0;34m(\u001b[0m\u001b[0mX_test\u001b[0m\u001b[0;34m.\u001b[0m\u001b[0mshape\u001b[0m\u001b[0;34m)\u001b[0m\u001b[0;34m\u001b[0m\u001b[0m\n\u001b[1;32m      4\u001b[0m \u001b[0mprint\u001b[0m\u001b[0;34m(\u001b[0m\u001b[0my_train\u001b[0m\u001b[0;34m.\u001b[0m\u001b[0mshape\u001b[0m\u001b[0;34m)\u001b[0m\u001b[0;34m\u001b[0m\u001b[0m\n\u001b[1;32m      5\u001b[0m \u001b[0mprint\u001b[0m\u001b[0;34m(\u001b[0m\u001b[0my_test\u001b[0m\u001b[0;34m.\u001b[0m\u001b[0mshape\u001b[0m\u001b[0;34m)\u001b[0m\u001b[0;34m\u001b[0m\u001b[0m\n",
      "\u001b[0;31mNameError\u001b[0m: name 'data' is not defined"
     ]
    }
   ],
   "source": [
    "X_train, X_test, y_train, y_test = split(data, label, test_size=0.2)\n",
    "print(X_train.shape)\n",
    "print(X_test.shape)\n",
    "print(y_train.shape)\n",
    "print(y_test.shape)"
   ]
  },
  {
   "cell_type": "markdown",
   "metadata": {},
   "source": [
    "# One Hot Encoding"
   ]
  },
  {
   "cell_type": "code",
   "execution_count": 6,
   "metadata": {},
   "outputs": [
    {
     "name": "stdout",
     "output_type": "stream",
     "text": [
      "(48000, 10)\n"
     ]
    }
   ],
   "source": [
    "y_train_cat_label = to_cate(y_train)\n",
    "print(y_train_cat_label.shape)"
   ]
  },
  {
   "cell_type": "markdown",
   "metadata": {},
   "source": [
    "# Standardization"
   ]
  },
  {
   "cell_type": "code",
   "execution_count": 7,
   "metadata": {},
   "outputs": [],
   "source": [
    "X_train_normal = (X_train - X_train.mean(axis = 0))/(np.std(X_train, axis=0))\n",
    "X_test_normal = (X_test - X_train.mean(axis = 0))/(np.std(X_train, axis=0))"
   ]
  },
  {
   "cell_type": "markdown",
   "metadata": {},
   "source": [
    "# Training"
   ]
  },
  {
   "cell_type": "code",
   "execution_count": 8,
   "metadata": {
    "scrolled": true
   },
   "outputs": [
    {
     "name": "stdout",
     "output_type": "stream",
     "text": [
      "epochs =  0\n",
      "0.7763803260491094\n",
      "epochs =  1\n",
      "0.4973880375239878\n",
      "epochs =  2\n",
      "0.45370331768819877\n",
      "epochs =  3\n",
      "0.4337696507787162\n",
      "epochs =  4\n",
      "0.41203039449198786\n",
      "epochs =  5\n",
      "0.4025850583352653\n",
      "epochs =  6\n",
      "0.3998799383132531\n",
      "epochs =  7\n",
      "0.387531060771849\n",
      "epochs =  8\n",
      "0.3784695183529075\n",
      "epochs =  9\n",
      "0.3742280521122972\n",
      "epochs =  10\n",
      "0.36846363454666303\n",
      "epochs =  11\n",
      "0.36885621072621855\n",
      "epochs =  12\n",
      "0.3608148015167808\n",
      "epochs =  13\n",
      "0.3558098611423793\n",
      "epochs =  14\n",
      "0.357222404833324\n",
      "epochs =  15\n",
      "0.3518906718348855\n",
      "epochs =  16\n",
      "0.3446141124233586\n",
      "epochs =  17\n",
      "0.3443791905352282\n",
      "epochs =  18\n",
      "0.33854629651762663\n",
      "epochs =  19\n",
      "0.3375541495558278\n",
      "epochs =  20\n",
      "0.34080804737377285\n",
      "epochs =  21\n",
      "0.3363566549395863\n",
      "epochs =  22\n",
      "0.3318967140133261\n",
      "epochs =  23\n",
      "0.3380280672087385\n",
      "epochs =  24\n",
      "0.33091215543782004\n",
      "epochs =  25\n",
      "0.3309478056434265\n",
      "epochs =  26\n",
      "0.3270856081093853\n",
      "epochs =  27\n",
      "0.3265954440626753\n",
      "epochs =  28\n",
      "0.32648185814453895\n",
      "epochs =  29\n",
      "0.3245226468067579\n",
      "epochs =  30\n",
      "0.3268104504593385\n",
      "epochs =  31\n",
      "0.320948693040337\n",
      "epochs =  32\n",
      "0.31931101434505393\n",
      "epochs =  33\n",
      "0.3217274170625203\n",
      "epochs =  34\n",
      "0.3144115439613168\n",
      "epochs =  35\n",
      "0.3204695933356056\n",
      "epochs =  36\n",
      "0.31561734225082605\n",
      "epochs =  37\n",
      "0.3119235333212275\n",
      "epochs =  38\n",
      "0.3136821385386113\n",
      "epochs =  39\n",
      "0.31337353583389\n",
      "epochs =  40\n",
      "0.3131444270867281\n",
      "epochs =  41\n",
      "0.31507932259967286\n",
      "epochs =  42\n",
      "0.3095576266998565\n",
      "epochs =  43\n",
      "0.307214274885847\n",
      "epochs =  44\n",
      "0.30925297684170233\n",
      "epochs =  45\n",
      "0.30749838021776466\n",
      "epochs =  46\n",
      "0.30419423863358264\n",
      "epochs =  47\n",
      "0.30505373123476404\n",
      "epochs =  48\n",
      "0.3059769122923346\n",
      "epochs =  49\n",
      "0.3038203483568407\n",
      "epochs =  50\n",
      "0.30384230896905307\n",
      "epochs =  51\n",
      "0.2999738767439478\n",
      "epochs =  52\n",
      "0.30024368505156124\n",
      "epochs =  53\n",
      "0.2985099023256297\n",
      "epochs =  54\n",
      "0.2987637506217189\n",
      "epochs =  55\n",
      "0.29729427786238005\n",
      "epochs =  56\n",
      "0.2947979225170685\n",
      "epochs =  57\n",
      "0.30224291384028257\n",
      "epochs =  58\n",
      "0.29741074116565086\n",
      "epochs =  59\n",
      "0.29835227442250495\n",
      "epochs =  60\n",
      "0.2954996649099359\n",
      "epochs =  61\n",
      "0.29912197468708634\n",
      "epochs =  62\n",
      "0.2966058855230179\n",
      "epochs =  63\n",
      "0.29559091791309566\n",
      "epochs =  64\n",
      "0.2937079930166978\n",
      "epochs =  65\n",
      "0.29397532419891714\n",
      "epochs =  66\n",
      "0.2939323742895507\n",
      "epochs =  67\n",
      "0.29687178378410933\n",
      "epochs =  68\n",
      "0.29818460160936\n",
      "epochs =  69\n",
      "0.29375208375009276\n",
      "epochs =  70\n",
      "0.2922090221209928\n",
      "epochs =  71\n",
      "0.2938132451223495\n",
      "epochs =  72\n",
      "0.2939891885876367\n",
      "epochs =  73\n",
      "0.2929906323948776\n",
      "epochs =  74\n",
      "0.28852064508143954\n",
      "epochs =  75\n",
      "0.29388263434672796\n",
      "epochs =  76\n",
      "0.2924936656276133\n",
      "epochs =  77\n",
      "0.2908739253999805\n",
      "epochs =  78\n",
      "0.290110641785056\n",
      "epochs =  79\n",
      "0.2888840437487788\n",
      "epochs =  80\n",
      "0.2930961097193431\n",
      "epochs =  81\n",
      "0.2867477576627042\n",
      "epochs =  82\n",
      "0.28685225502677275\n",
      "epochs =  83\n",
      "0.29174945664120283\n",
      "epochs =  84\n",
      "0.2914343169597496\n",
      "epochs =  85\n",
      "0.2889700356961276\n",
      "epochs =  86\n",
      "0.2890255393078661\n",
      "epochs =  87\n",
      "0.28637874826461185\n",
      "epochs =  88\n",
      "0.2868979370619011\n",
      "epochs =  89\n",
      "0.28478063531792747\n",
      "epochs =  90\n",
      "0.2871596757583465\n",
      "epochs =  91\n",
      "0.28844114553269706\n",
      "epochs =  92\n",
      "0.28267522692258595\n",
      "epochs =  93\n",
      "0.2836207654482856\n",
      "epochs =  94\n",
      "0.2833779598064517\n",
      "epochs =  95\n",
      "0.28646720383633967\n",
      "epochs =  96\n",
      "0.28273921446894\n",
      "epochs =  97\n",
      "0.28322145735109133\n",
      "epochs =  98\n",
      "0.28303169368055003\n",
      "epochs =  99\n",
      "0.28351020460880066\n",
      "epochs =  100\n",
      "0.28225217761904364\n",
      "epochs =  101\n",
      "0.2807941955711613\n",
      "epochs =  102\n",
      "0.27972056249639216\n",
      "epochs =  103\n",
      "0.28052114939801454\n",
      "epochs =  104\n",
      "0.27890551557566245\n",
      "epochs =  105\n",
      "0.28552747452938254\n",
      "epochs =  106\n",
      "0.2824978753268967\n",
      "epochs =  107\n",
      "0.2796713972174771\n",
      "epochs =  108\n",
      "0.28261236656438277\n",
      "epochs =  109\n",
      "0.2807805744736623\n",
      "epochs =  110\n",
      "0.2810379408306227\n",
      "epochs =  111\n",
      "0.2813380170421764\n",
      "epochs =  112\n",
      "0.27878789460506287\n",
      "epochs =  113\n",
      "0.27546391730485126\n",
      "epochs =  114\n",
      "0.27925572916545216\n",
      "epochs =  115\n",
      "0.2822115993592238\n",
      "epochs =  116\n",
      "0.28018705246648223\n",
      "epochs =  117\n",
      "0.27778323876341704\n",
      "epochs =  118\n",
      "0.28002042494918017\n",
      "epochs =  119\n",
      "0.27695302052569926\n",
      "epochs =  120\n",
      "0.2808185736706397\n",
      "epochs =  121\n",
      "0.27229685113767527\n",
      "epochs =  122\n",
      "0.2803185141387135\n",
      "epochs =  123\n",
      "0.2802717212286594\n",
      "epochs =  124\n",
      "0.2743922772577737\n",
      "epochs =  125\n",
      "0.2783039862912789\n",
      "epochs =  126\n",
      "0.27545088976885135\n",
      "epochs =  127\n",
      "0.27545607976971154\n",
      "epochs =  128\n",
      "0.2740850915393155\n",
      "epochs =  129\n",
      "0.27263556987806703\n",
      "epochs =  130\n",
      "0.27414013965203055\n",
      "epochs =  131\n",
      "0.27740473839983354\n",
      "epochs =  132\n",
      "0.27369983551241434\n",
      "epochs =  133\n",
      "0.27138295177873784\n",
      "epochs =  134\n",
      "0.2735911675107913\n",
      "epochs =  135\n",
      "0.27672450625969613\n",
      "epochs =  136\n",
      "0.2731706726485953\n",
      "epochs =  137\n",
      "0.27209777720671174\n",
      "epochs =  138\n",
      "0.2757926501943582\n",
      "epochs =  139\n",
      "0.27291759043649266\n",
      "epochs =  140\n",
      "0.27587316893981606\n",
      "epochs =  141\n",
      "0.2783837843401939\n",
      "epochs =  142\n",
      "0.2760304712596409\n",
      "epochs =  143\n",
      "0.27427217433880746\n",
      "epochs =  144\n",
      "0.27417264262247387\n",
      "epochs =  145\n",
      "0.2752461851184439\n",
      "epochs =  146\n",
      "0.27720598923692585\n",
      "epochs =  147\n",
      "0.27647940945077654\n",
      "epochs =  148\n",
      "0.2747877133783146\n",
      "epochs =  149\n",
      "0.27381855238434094\n",
      "loss:0.273819\n",
      "267.31662583351135  seconds\n"
     ]
    }
   ],
   "source": [
    "time1 = time.time()\n",
    "nn = MLP([128,80,90,70,10], [None,'relu','relu','relu','softmax'])\n",
    "loss = nn.fit(X_train_normal, y_train_cat_label, learning_rate=0.1,weight_decay = 1e-5,epochs=150,batch_size = 128,batch_norm = True,momentum_gamma = 0.9,dropout=0.7,loss_function = \"cross_entropy\")\n",
    "print('loss:%f'%loss[-1])\n",
    "time2 = time.time()\n",
    "print(time2-time1,\" seconds\")"
   ]
  },
  {
   "cell_type": "code",
   "execution_count": 9,
   "metadata": {},
   "outputs": [
    {
     "data": {
      "image/png": "[encoded data removed]",
      "text/plain": [
       "<Figure size 1080x288 with 1 Axes>"
      ]
     },
     "metadata": {
      "needs_background": "light"
     },
     "output_type": "display_data"
    }
   ],
   "source": [
    "pl.figure(figsize=(15,4))\n",
    "pl.plot(loss)\n",
    "pl.grid()"
   ]
  },
  {
   "cell_type": "markdown",
   "metadata": {},
   "source": [
    "# Predicting"
   ]
  },
  {
   "cell_type": "code",
   "execution_count": 10,
   "metadata": {},
   "outputs": [
    {
     "name": "stdout",
     "output_type": "stream",
     "text": [
      "0.8951666666666667\n"
     ]
    }
   ],
   "source": [
    "y_pre_cat = nn.predict(X_test_normal)\n",
    "y_pre = np.argmax(y_pre_cat, axis=1)\n",
    "\n",
    "test_data_size = y_test.shape[0]\n",
    "accuracy = np.where((y_test == y_pre) == True)[0].shape[0]/test_data_size\n",
    "print(accuracy)"
   ]
  },
  {
   "cell_type": "markdown",
   "metadata": {},
   "source": [
    "# Use all training data for training, then create output data file"
   ]
  },
  {
   "cell_type": "code",
   "execution_count": 11,
   "metadata": {},
   "outputs": [
    {
     "data": {
      "text/plain": [
       "(10000, 128)"
      ]
     },
     "execution_count": 11,
     "metadata": {},
     "output_type": "execute_result"
    }
   ],
   "source": [
    "with h5py.File('../Input/test_128.h5','r') as H: \n",
    "    data_test = np.copy(H['data'])\n",
    "data_test.shape"
   ]
  },
  {
   "cell_type": "code",
   "execution_count": 12,
   "metadata": {},
   "outputs": [],
   "source": [
    "X_train = data\n",
    "X_test = data_test\n",
    "y_train = label\n",
    "y_train_cat_label = to_cate(y_train)"
   ]
  },
  {
   "cell_type": "code",
   "execution_count": 13,
   "metadata": {},
   "outputs": [],
   "source": [
    "X_train_normal = (X_train - X_train.mean(axis = 0))/(np.std(X_train, axis=0))\n",
    "X_test_normal = (X_test - X_train.mean(axis = 0))/(np.std(X_train, axis=0))"
   ]
  },
  {
   "cell_type": "code",
   "execution_count": 14,
   "metadata": {},
   "outputs": [
    {
     "name": "stdout",
     "output_type": "stream",
     "text": [
      "(60000, 128)\n",
      "(10000, 128)\n",
      "(60000, 10)\n"
     ]
    }
   ],
   "source": [
    "print(X_train_normal.shape)\n",
    "print(X_test_normal.shape)\n",
    "print(y_train_cat_label.shape)"
   ]
  },
  {
   "cell_type": "code",
   "execution_count": 15,
   "metadata": {
    "scrolled": true
   },
   "outputs": [
    {
     "name": "stdout",
     "output_type": "stream",
     "text": [
      "epochs =  0\n",
      "0.720634809634873\n",
      "epochs =  1\n",
      "0.48540948821960106\n",
      "epochs =  2\n",
      "0.4440204446298687\n",
      "epochs =  3\n",
      "0.42214989777611533\n",
      "epochs =  4\n",
      "0.4106402624447156\n",
      "epochs =  5\n",
      "0.3965129175871577\n",
      "epochs =  6\n",
      "0.3880636576978578\n",
      "epochs =  7\n",
      "0.3810667312674086\n",
      "epochs =  8\n",
      "0.3725041213566476\n",
      "epochs =  9\n",
      "0.36865914898271973\n",
      "epochs =  10\n",
      "0.36694413719448504\n",
      "epochs =  11\n",
      "0.3632103770136267\n",
      "epochs =  12\n",
      "0.3584110616455513\n",
      "epochs =  13\n",
      "0.35585429411991076\n",
      "epochs =  14\n",
      "0.3549886284066722\n",
      "epochs =  15\n",
      "0.3476677916258865\n",
      "epochs =  16\n",
      "0.3461086110969438\n",
      "epochs =  17\n",
      "0.3422654514560668\n",
      "epochs =  18\n",
      "0.33993592763970726\n",
      "epochs =  19\n",
      "0.3407005043937911\n",
      "epochs =  20\n",
      "0.33797178476203893\n",
      "epochs =  21\n",
      "0.33239810552501586\n",
      "epochs =  22\n",
      "0.33553801720026316\n",
      "epochs =  23\n",
      "0.3308573511833764\n",
      "epochs =  24\n",
      "0.33158231695685464\n",
      "epochs =  25\n",
      "0.3277675161666487\n",
      "epochs =  26\n",
      "0.32735442087917044\n",
      "epochs =  27\n",
      "0.32846612052866353\n",
      "epochs =  28\n",
      "0.3241676708591945\n",
      "epochs =  29\n",
      "0.32014530148332787\n",
      "epochs =  30\n",
      "0.32600245435592196\n",
      "epochs =  31\n",
      "0.32132604428361794\n",
      "epochs =  32\n",
      "0.32120618923904926\n",
      "epochs =  33\n",
      "0.3178109804146485\n",
      "epochs =  34\n",
      "0.31956623853227506\n",
      "epochs =  35\n",
      "0.315294901343167\n",
      "epochs =  36\n",
      "0.318678524320051\n",
      "epochs =  37\n",
      "0.31731084643838287\n",
      "epochs =  38\n",
      "0.31416003242803814\n",
      "epochs =  39\n",
      "0.31380160601242485\n",
      "epochs =  40\n",
      "0.3119071971207215\n",
      "epochs =  41\n",
      "0.31095238037162404\n",
      "epochs =  42\n",
      "0.3157142312260693\n",
      "epochs =  43\n",
      "0.31351655899994124\n",
      "epochs =  44\n",
      "0.3135762172550158\n",
      "epochs =  45\n",
      "0.31217733059399483\n",
      "epochs =  46\n",
      "0.3104202897661602\n",
      "epochs =  47\n",
      "0.3082089448646879\n",
      "epochs =  48\n",
      "0.310154745946528\n",
      "epochs =  49\n",
      "0.3053214558007069\n",
      "epochs =  50\n",
      "0.30542713799035176\n",
      "epochs =  51\n",
      "0.30866940349139865\n",
      "epochs =  52\n",
      "0.3100299882300456\n",
      "epochs =  53\n",
      "0.3054003381343409\n",
      "epochs =  54\n",
      "0.30141949421049374\n",
      "epochs =  55\n",
      "0.30009585639571995\n",
      "epochs =  56\n",
      "0.30655734097334914\n",
      "epochs =  57\n",
      "0.3031587462788301\n",
      "epochs =  58\n",
      "0.30285419756458903\n",
      "epochs =  59\n",
      "0.3002353277856504\n",
      "epochs =  60\n",
      "0.3053828793482669\n",
      "epochs =  61\n",
      "0.2984778864040506\n",
      "epochs =  62\n",
      "0.30222393613676135\n",
      "epochs =  63\n",
      "0.3029402309451564\n",
      "epochs =  64\n",
      "0.3005419827265081\n",
      "epochs =  65\n",
      "0.29621852752927536\n",
      "epochs =  66\n",
      "0.29808617641623675\n",
      "epochs =  67\n",
      "0.2997203089724993\n",
      "epochs =  68\n",
      "0.2980874727920664\n",
      "epochs =  69\n",
      "0.2988774494287294\n",
      "epochs =  70\n",
      "0.2958721653560013\n",
      "epochs =  71\n",
      "0.2965464609216235\n",
      "epochs =  72\n",
      "0.2987931506407056\n",
      "epochs =  73\n",
      "0.2974317092381833\n",
      "epochs =  74\n",
      "0.29562598901394493\n",
      "epochs =  75\n",
      "0.2939051088007871\n",
      "epochs =  76\n",
      "0.2954589014663478\n",
      "epochs =  77\n",
      "0.29592118724431926\n",
      "epochs =  78\n",
      "0.29261639338255924\n",
      "epochs =  79\n",
      "0.29560441645052365\n",
      "epochs =  80\n",
      "0.29354103273542026\n",
      "epochs =  81\n",
      "0.2911609635928763\n",
      "epochs =  82\n",
      "0.2942729574882799\n",
      "epochs =  83\n",
      "0.2937136762951054\n",
      "epochs =  84\n",
      "0.29130582564837787\n",
      "epochs =  85\n",
      "0.2912579457832856\n",
      "epochs =  86\n",
      "0.2914940360952318\n",
      "epochs =  87\n",
      "0.29520078712280196\n",
      "epochs =  88\n",
      "0.2900060858683612\n",
      "epochs =  89\n",
      "0.2904885150755399\n",
      "epochs =  90\n",
      "0.29008979652077105\n",
      "epochs =  91\n",
      "0.2865353983226247\n",
      "epochs =  92\n",
      "0.2887636395584219\n",
      "epochs =  93\n",
      "0.2888082863743363\n",
      "epochs =  94\n",
      "0.2913915262111395\n",
      "epochs =  95\n",
      "0.28879187186155286\n",
      "epochs =  96\n",
      "0.2921689429443826\n",
      "epochs =  97\n",
      "0.2889825022655277\n",
      "epochs =  98\n",
      "0.29090351882546417\n",
      "epochs =  99\n",
      "0.28579464097714663\n",
      "epochs =  100\n",
      "0.2897946179360339\n",
      "epochs =  101\n",
      "0.28646354303148064\n",
      "epochs =  102\n",
      "0.2867685085267115\n",
      "epochs =  103\n",
      "0.290314526922103\n",
      "epochs =  104\n",
      "0.2886242521095892\n",
      "epochs =  105\n",
      "0.2848715965872099\n",
      "epochs =  106\n",
      "0.28311204603397405\n",
      "epochs =  107\n",
      "0.287295197448397\n",
      "epochs =  108\n",
      "0.28378796548477164\n",
      "epochs =  109\n",
      "0.28169236269841047\n",
      "epochs =  110\n",
      "0.2842017315759711\n",
      "epochs =  111\n",
      "0.28564886668130945\n",
      "epochs =  112\n",
      "0.2829893937552474\n",
      "epochs =  113\n",
      "0.2847954295439382\n",
      "epochs =  114\n",
      "0.28646470868450674\n",
      "epochs =  115\n",
      "0.2851127050327335\n",
      "epochs =  116\n",
      "0.28281824877607564\n",
      "epochs =  117\n",
      "0.2826349695387394\n",
      "epochs =  118\n",
      "0.28326683636234196\n",
      "epochs =  119\n",
      "0.2848513911394494\n",
      "epochs =  120\n",
      "0.2807630058871282\n",
      "epochs =  121\n",
      "0.28646858987689094\n",
      "epochs =  122\n",
      "0.28293147759224446\n",
      "epochs =  123\n",
      "0.2847940673931633\n",
      "epochs =  124\n",
      "0.28363391898835205\n",
      "epochs =  125\n",
      "0.28316146802938663\n",
      "epochs =  126\n",
      "0.277640557517889\n",
      "epochs =  127\n",
      "0.2789008809567328\n",
      "epochs =  128\n",
      "0.2829335201009181\n",
      "epochs =  129\n",
      "0.2825271788285384\n",
      "epochs =  130\n",
      "0.2788405539223295\n",
      "epochs =  131\n",
      "0.28256367407297905\n",
      "epochs =  132\n",
      "0.2819273054680847\n",
      "epochs =  133\n",
      "0.28418424354278293\n",
      "epochs =  134\n",
      "0.2787520193141775\n",
      "epochs =  135\n",
      "0.2832079401463261\n",
      "epochs =  136\n",
      "0.2839597526367738\n",
      "epochs =  137\n",
      "0.27934015585432675\n",
      "epochs =  138\n",
      "0.2804846773184519\n",
      "epochs =  139\n",
      "0.28015982092411423\n",
      "epochs =  140\n",
      "0.2805517656510537\n",
      "epochs =  141\n",
      "0.28043761548705476\n",
      "epochs =  142\n",
      "0.28026508665928124\n",
      "epochs =  143\n",
      "0.28029116228910494\n",
      "epochs =  144\n",
      "0.2774065360270457\n",
      "epochs =  145\n",
      "0.2780931267498374\n",
      "epochs =  146\n",
      "0.2806772515078143\n",
      "epochs =  147\n",
      "0.2793937703955684\n",
      "epochs =  148\n",
      "0.2786765655888451\n",
      "epochs =  149\n",
      "0.27864929561244756\n",
      "loss:0.278649\n",
      "621.4756214618683  seconds\n"
     ]
    }
   ],
   "source": [
    "nn = MLP([128,80,90,70,10], [None,'relu','relu','relu','softmax'])\n",
    "loss = nn.fit(X_train_normal, y_train_cat_label, learning_rate=0.1,weight_decay = 1e-5,epochs=150,batch_size = 128,batch_norm = True,momentum_gamma = 0.9,dropout=0.7,loss_function = \"cross_entropy\")\n",
    "print('loss:%f'%loss[-1])\n",
    "time2 = time.time()\n",
    "print(time2-time1,\" seconds\")"
   ]
  },
  {
   "cell_type": "code",
   "execution_count": 16,
   "metadata": {},
   "outputs": [
    {
     "data": {
      "image/png": "[encoded data removed]",
      "text/plain": [
       "<Figure size 1080x288 with 1 Axes>"
      ]
     },
     "metadata": {
      "needs_background": "light"
     },
     "output_type": "display_data"
    }
   ],
   "source": [
    "pl.figure(figsize=(15,4))\n",
    "pl.plot(loss)\n",
    "pl.grid()"
   ]
  },
  {
   "cell_type": "code",
   "execution_count": 17,
   "metadata": {},
   "outputs": [],
   "source": [
    "y_pre_cat = nn.predict(X_test_normal)\n",
    "y_pre = np.argmax(y_pre_cat, axis=1)\n"
   ]
  },
  {
   "cell_type": "code",
   "execution_count": 18,
   "metadata": {},
   "outputs": [],
   "source": [
    "# h = h5py.File('../Output/Predicted_labels.h5', 'w')\n",
    "h = h5py.File('../Output/Predicted_labels.h5', 'w')\n",
    "dset = h.create_dataset('label', data=y_pre)"
   ]
  },
  {
   "cell_type": "code",
   "execution_count": 19,
   "metadata": {},
   "outputs": [
    {
     "data": {
      "text/plain": [
       "(10000,)"
      ]
     },
     "execution_count": 19,
     "metadata": {},
     "output_type": "execute_result"
    }
   ],
   "source": [
    "# Predicted_labels.h5\n",
    "with h5py.File('../Output/Predicted_labels.h5','r') as H: \n",
    "    predicted_test_label = np.copy(H['label'])\n",
    "predicted_test_label.shape"
   ]
  },
  {
   "cell_type": "code",
   "execution_count": 21,
   "metadata": {},
   "outputs": [
    {
     "data": {
      "text/plain": [
       "{0, 1, 2, 3, 4, 5, 6, 7, 8, 9}"
      ]
     },
     "execution_count": 21,
     "metadata": {},
     "output_type": "execute_result"
    }
   ],
   "source": [
    "set(predicted_test_label)"
   ]
  },
  {
   "cell_type": "code",
   "execution_count": null,
   "metadata": {},
   "outputs": [],
   "source": []
  }
 ],
 "metadata": {
  "kernelspec": {
   "display_name": "Python 3",
   "language": "python",
   "name": "python3"
  },
  "language_info": {
   "codemirror_mode": {
    "name": "ipython",
    "version": 3
   },
   "file_extension": ".py",
   "mimetype": "text/x-python",
   "name": "python",
   "nbconvert_exporter": "python",
   "pygments_lexer": "ipython3",
   "version": "3.6.4"
  }
 },
 "nbformat": 4,
 "nbformat_minor": 2
}
