{
 "cells": [
  {
   "cell_type": "code",
   "execution_count": 1,
   "metadata": {},
   "outputs": [],
   "source": [
    "import h5py\n",
    "import numpy as np \n",
    "with h5py.File('images_training.h5','r') as H:\n",
    "    data = np.copy(H['data']) \n",
    "with h5py.File('labels_training.h5','r') as H:\n",
    "    label = np.copy(H['label'])"
   ]
  },
  {
   "cell_type": "code",
   "execution_count": 2,
   "metadata": {},
   "outputs": [
    {
     "data": {
      "text/plain": [
       "(30000, 28, 28)"
      ]
     },
     "execution_count": 2,
     "metadata": {},
     "output_type": "execute_result"
    }
   ],
   "source": [
    "data.shape"
   ]
  },
  {
   "cell_type": "code",
   "execution_count": 3,
   "metadata": {},
   "outputs": [
    {
     "data": {
      "text/plain": [
       "(30000,)"
      ]
     },
     "execution_count": 3,
     "metadata": {},
     "output_type": "execute_result"
    }
   ],
   "source": [
    "label.shape"
   ]
  },
  {
   "cell_type": "code",
   "execution_count": 4,
   "metadata": {},
   "outputs": [],
   "source": [
    "m=data.shape[1]*data.shape[2]\n",
    "data1 = data.reshape(30000,m)"
   ]
  },
  {
   "cell_type": "code",
   "execution_count": 5,
   "metadata": {},
   "outputs": [
    {
     "data": {
      "text/plain": [
       "(30000, 784)"
      ]
     },
     "execution_count": 5,
     "metadata": {},
     "output_type": "execute_result"
    }
   ],
   "source": [
    "data1.shape"
   ]
  },
  {
   "cell_type": "code",
   "execution_count": 6,
   "metadata": {},
   "outputs": [
    {
     "data": {
      "text/plain": [
       "10"
      ]
     },
     "execution_count": 6,
     "metadata": {},
     "output_type": "execute_result"
    }
   ],
   "source": [
    "target = set()\n",
    "for i in label:\n",
    "    target.add(i)\n",
    "d = len(list(target))\n",
    "d"
   ]
  },
  {
   "cell_type": "code",
   "execution_count": 7,
   "metadata": {},
   "outputs": [],
   "source": [
    "# ovr, label \"1\" vs. not label \"1\" \n",
    "label1= label\n",
    "for tmp in range(len(label1)):\n",
    "    if label1[tmp] != 1:\n",
    "        label1[tmp] = 0"
   ]
  },
  {
   "cell_type": "code",
   "execution_count": 8,
   "metadata": {},
   "outputs": [],
   "source": [
    "#used scikit-learn library, need to implemenet ourselve later\n",
    "from sklearn.preprocessing import normalize\n",
    "data_normalize = normalize(data1)"
   ]
  },
  {
   "cell_type": "code",
   "execution_count": 9,
   "metadata": {},
   "outputs": [
    {
     "data": {
      "text/plain": [
       "(30000, 784)"
      ]
     },
     "execution_count": 9,
     "metadata": {},
     "output_type": "execute_result"
    }
   ],
   "source": [
    "data_normalize.shape"
   ]
  },
  {
   "cell_type": "code",
   "execution_count": 10,
   "metadata": {},
   "outputs": [],
   "source": [
    "#from tutorial\n",
    "def logistic_loss_and_grad(weights, inputs, targets):\n",
    "\n",
    "    #derivative of the loss function\n",
    "    z = np.dot(inputs, weights)\n",
    "    exp_z = np.exp(z)\n",
    "    temp = -exp_z/(1 + exp_z) + targets\n",
    "    dloss = -np.sum(temp*inputs, axis=0)[:, np.newaxis]\n",
    "    \n",
    "    return dloss"
   ]
  },
  {
   "cell_type": "code",
   "execution_count": 11,
   "metadata": {},
   "outputs": [],
   "source": [
    "\n",
    "weights = np.random.random(data1.shape[1])[:, np.newaxis]\n",
    "eta = 0.03\n",
    "n_iter = 2000\n",
    "label1= label1.reshape(-1,1)\n",
    "for epoch in range(n_iter):\n",
    "    dloss = logistic_loss_and_grad(weights, data_normalize,label1 )\n",
    "    weights = weights - dloss * eta\n",
    "    "
   ]
  },
  {
   "cell_type": "code",
   "execution_count": 14,
   "metadata": {},
   "outputs": [
    {
     "data": {
      "text/plain": [
       "(784, 1)"
      ]
     },
     "execution_count": 14,
     "metadata": {},
     "output_type": "execute_result"
    }
   ],
   "source": [
    "weights.shape"
   ]
  },
  {
   "cell_type": "code",
   "execution_count": 21,
   "metadata": {},
   "outputs": [],
   "source": [
    "def pro_function(inputs, weights):\n",
    "    z = np.dot(inputs, weights)\n",
    "    exp_mz = np.exp(-z)\n",
    "    p = 1/(exp_mz + 1)\n",
    "    return p"
   ]
  },
  {
   "cell_type": "code",
   "execution_count": 23,
   "metadata": {},
   "outputs": [
    {
     "name": "stderr",
     "output_type": "stream",
     "text": [
      "d:\\python3\\lib\\site-packages\\ipykernel_launcher.py:3: RuntimeWarning: overflow encountered in exp\n",
      "  This is separate from the ipykernel package so we can avoid doing imports until\n"
     ]
    }
   ],
   "source": [
    "# label1, data1\n",
    "#how to deal with overflow?\n",
    "result = pro_function(data1, weights)\n"
   ]
  },
  {
   "cell_type": "code",
   "execution_count": 28,
   "metadata": {},
   "outputs": [],
   "source": [
    "aaa = []\n",
    "for i in result:\n",
    "    if i >= 0.5:\n",
    "        aaa.append(1)\n",
    "    else:\n",
    "        aaa.append(0)"
   ]
  },
  {
   "cell_type": "code",
   "execution_count": 29,
   "metadata": {},
   "outputs": [],
   "source": [
    "aaa=np.array(aaa)"
   ]
  },
  {
   "cell_type": "code",
   "execution_count": 47,
   "metadata": {},
   "outputs": [
    {
     "name": "stdout",
     "output_type": "stream",
     "text": [
      "accuracy is  98.853 %\n"
     ]
    }
   ],
   "source": [
    "correct= 0\n",
    "for i in range(30000):\n",
    "    if aaa[i] == label1[i]:\n",
    "        correct += 1\n",
    "accuracy = correct / data1.shape[0]  \n",
    "print(\"accuracy is \", round(accuracy*100, 3),\"%\")"
   ]
  },
  {
   "cell_type": "code",
   "execution_count": 37,
   "metadata": {},
   "outputs": [],
   "source": [
    "#used scikit-learn library, need to implemenet ourselve later\n",
    "from sklearn.metrics import confusion_matrix"
   ]
  },
  {
   "cell_type": "code",
   "execution_count": 42,
   "metadata": {},
   "outputs": [
    {
     "data": {
      "text/plain": [
       "array([[26888,   156],\n",
       "       [  188,  2768]], dtype=int64)"
      ]
     },
     "execution_count": 42,
     "metadata": {},
     "output_type": "execute_result"
    }
   ],
   "source": [
    "confusion_matrix(label1, aaa, labels= [0,1])"
   ]
  },
  {
   "cell_type": "code",
   "execution_count": null,
   "metadata": {},
   "outputs": [],
   "source": []
  }
 ],
 "metadata": {
  "kernelspec": {
   "display_name": "Python 3",
   "language": "python",
   "name": "python3"
  },
  "language_info": {
   "codemirror_mode": {
    "name": "ipython",
    "version": 3
   },
   "file_extension": ".py",
   "mimetype": "text/x-python",
   "name": "python",
   "nbconvert_exporter": "python",
   "pygments_lexer": "ipython3",
   "version": "3.7.0"
  }
 },
 "nbformat": 4,
 "nbformat_minor": 2
}
