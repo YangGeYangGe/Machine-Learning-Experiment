{
 "cells": [
  {
   "cell_type": "code",
   "execution_count": 1,
   "metadata": {},
   "outputs": [],
   "source": [
    "import h5py\n",
    "import numpy as np \n",
    "with h5py.File('images_training.h5','r') as H:\n",
    "    data = np.copy(H['data']) \n",
    "with h5py.File('labels_training.h5','r') as H:\n",
    "    label = np.copy(H['label'])"
   ]
  },
  {
   "cell_type": "code",
   "execution_count": 2,
   "metadata": {},
   "outputs": [
    {
     "data": {
      "text/plain": [
       "(30000, 28, 28)"
      ]
     },
     "execution_count": 2,
     "metadata": {},
     "output_type": "execute_result"
    }
   ],
   "source": [
    "data.shape"
   ]
  },
  {
   "cell_type": "code",
   "execution_count": 3,
   "metadata": {},
   "outputs": [
    {
     "data": {
      "text/plain": [
       "2"
      ]
     },
     "execution_count": 3,
     "metadata": {},
     "output_type": "execute_result"
    }
   ],
   "source": [
    "label[-1]"
   ]
  },
  {
   "cell_type": "code",
   "execution_count": 4,
   "metadata": {},
   "outputs": [],
   "source": [
    "m=data.shape[1]*data.shape[2]\n",
    "data1 = data.reshape(30000,m)\n",
    "del data"
   ]
  },
  {
   "cell_type": "code",
   "execution_count": 5,
   "metadata": {},
   "outputs": [
    {
     "data": {
      "text/plain": [
       "(30000, 784)"
      ]
     },
     "execution_count": 5,
     "metadata": {},
     "output_type": "execute_result"
    }
   ],
   "source": [
    "data1.shape"
   ]
  },
  {
   "cell_type": "code",
   "execution_count": 6,
   "metadata": {},
   "outputs": [
    {
     "data": {
      "text/plain": [
       "10"
      ]
     },
     "execution_count": 6,
     "metadata": {},
     "output_type": "execute_result"
    }
   ],
   "source": [
    "target = set()\n",
    "for i in label:\n",
    "    target.add(i)\n",
    "d = len(list(target))\n",
    "d"
   ]
  },
  {
   "cell_type": "code",
   "execution_count": 7,
   "metadata": {},
   "outputs": [],
   "source": [
    "# ovr, label \"1\" vs. not label \"1\" \n",
    "label1 = np.array([])\n",
    "for i in range(d):\n",
    "    label_tmp=np.copy(label)\n",
    "    for tmp in range(len(label_tmp)):\n",
    "        if label_tmp[tmp] != i:\n",
    "            label_tmp[tmp] = 0\n",
    "        else:\n",
    "            label_tmp[tmp] = 1\n",
    "    label_tmp= label_tmp.reshape(-1,1)\n",
    "    if i == 0:\n",
    "        label1 = np.copy(label_tmp)\n",
    "    else:\n",
    "        label1 = np.append(label1, label_tmp, axis=1)\n",
    "del label_tmp"
   ]
  },
  {
   "cell_type": "code",
   "execution_count": 8,
   "metadata": {},
   "outputs": [
    {
     "data": {
      "text/plain": [
       "(30000, 10)"
      ]
     },
     "execution_count": 8,
     "metadata": {},
     "output_type": "execute_result"
    }
   ],
   "source": [
    "label1.shape\n"
   ]
  },
  {
   "cell_type": "code",
   "execution_count": 9,
   "metadata": {},
   "outputs": [
    {
     "data": {
      "text/plain": [
       "2"
      ]
     },
     "execution_count": 9,
     "metadata": {},
     "output_type": "execute_result"
    }
   ],
   "source": [
    "label[-1]"
   ]
  },
  {
   "cell_type": "code",
   "execution_count": 10,
   "metadata": {},
   "outputs": [
    {
     "data": {
      "text/plain": [
       "array([[1, 0, 0, ..., 0, 0, 0],\n",
       "       [0, 0, 1, ..., 0, 0, 0],\n",
       "       [0, 0, 0, ..., 0, 0, 0],\n",
       "       ...,\n",
       "       [0, 0, 0, ..., 0, 0, 0],\n",
       "       [0, 1, 0, ..., 0, 0, 0],\n",
       "       [0, 0, 1, ..., 0, 0, 0]], dtype=uint8)"
      ]
     },
     "execution_count": 10,
     "metadata": {},
     "output_type": "execute_result"
    }
   ],
   "source": [
    "label1"
   ]
  },
  {
   "cell_type": "code",
   "execution_count": 11,
   "metadata": {},
   "outputs": [],
   "source": [
    "#used scikit-learn library, need to implemenet ourselve later\n",
    "from sklearn.preprocessing import normalize\n",
    "data_normalize = normalize(data1)\n",
    "del data1"
   ]
  },
  {
   "cell_type": "code",
   "execution_count": 12,
   "metadata": {},
   "outputs": [
    {
     "data": {
      "text/plain": [
       "(30000, 784)"
      ]
     },
     "execution_count": 12,
     "metadata": {},
     "output_type": "execute_result"
    }
   ],
   "source": [
    "data_normalize.shape"
   ]
  },
  {
   "cell_type": "code",
   "execution_count": 13,
   "metadata": {},
   "outputs": [],
   "source": [
    "#from tutorial\n",
    "def logistic_loss_and_grad(weights, inputs, targets):\n",
    "\n",
    "    #derivative of the loss function\n",
    "    z = np.dot(inputs, weights)\n",
    "    exp_z = np.exp(z)\n",
    "    temp = -exp_z/(1 + exp_z) + targets\n",
    "#     print(temp.shape, inputs.shape, (temp*inputs).shape)\n",
    "    dloss = -np.sum(temp*inputs, axis=0)[:, np.newaxis]\n",
    "\n",
    "    return dloss"
   ]
  },
  {
   "cell_type": "code",
   "execution_count": 17,
   "metadata": {},
   "outputs": [
    {
     "name": "stdout",
     "output_type": "stream",
     "text": [
      "(30000, 784)\n",
      "(30000, 784)\n",
      "(30000, 784)\n",
      "(30000, 784)\n",
      "(30000, 784)\n",
      "(30000, 784)\n",
      "(30000, 784)\n",
      "(30000, 784)\n",
      "(30000, 784)\n",
      "(30000, 784)\n"
     ]
    }
   ],
   "source": [
    "import numpy.linalg as lng\n",
    "# weights = np.random.random(data1.shape[1])[:, np.newaxis]\n",
    "weights = np.array([])\n",
    "eta = 0.03\n",
    "# n_iter = 2000\n",
    "n_iter = 2000\n",
    "eps = 1e-10\n",
    "\n",
    "for i in range(d):\n",
    "    weight = np.random.random(data_normalize.shape[1])[:, np.newaxis]\n",
    "    current_label = (label1[:,i]).reshape(-1,1)\n",
    "    print(data_normalize.shape)\n",
    "    for epoch in range(n_iter):\n",
    "        dloss = logistic_loss_and_grad(weight, data_normalize, current_label)\n",
    "        weight_new = weight - dloss * eta\n",
    "        diff = lng.norm(weight_new - weight)\n",
    "        weight = weight_new\n",
    "        if diff < eps:\n",
    "            break\n",
    "    if i == 0:\n",
    "        weights = weight\n",
    "    else:\n",
    "        weights = np.append(weights, weight, axis = 1)"
   ]
  },
  {
   "cell_type": "code",
   "execution_count": 18,
   "metadata": {},
   "outputs": [
    {
     "data": {
      "text/plain": [
       "(784, 10)"
      ]
     },
     "execution_count": 18,
     "metadata": {},
     "output_type": "execute_result"
    }
   ],
   "source": [
    "weights.shape"
   ]
  },
  {
   "cell_type": "code",
   "execution_count": 19,
   "metadata": {},
   "outputs": [],
   "source": [
    "\n",
    "with h5py.File('images_testing.h5','r') as H:\n",
    "    data_testing = np.copy(H['data']) \n",
    "with h5py.File('labels_testing_2000.h5','r') as H:\n",
    "    label_testing = np.copy(H['label'])"
   ]
  },
  {
   "cell_type": "code",
   "execution_count": 20,
   "metadata": {},
   "outputs": [],
   "source": [
    "data_testing = np.delete(data_testing, np.s_[2000:5000], 0)"
   ]
  },
  {
   "cell_type": "code",
   "execution_count": 21,
   "metadata": {},
   "outputs": [
    {
     "name": "stdout",
     "output_type": "stream",
     "text": [
      "(2000, 784)\n",
      "(2000,)\n"
     ]
    }
   ],
   "source": [
    "data_testing = data_testing.reshape(2000,-1)\n",
    "print(data_testing.shape)\n",
    "print(label_testing.shape)"
   ]
  },
  {
   "cell_type": "code",
   "execution_count": 22,
   "metadata": {},
   "outputs": [
    {
     "data": {
      "text/plain": [
       "array([[ -26588.64537108,  -34497.55284898, -102013.6067531 , ...,\n",
       "        -214187.88934589, -120094.7800282 , -149605.45661504],\n",
       "       [-185567.1784891 ,  -41833.06576639,   38126.71819234, ...,\n",
       "        -553977.37693457, -185231.72156837, -502443.15011693],\n",
       "       [-289205.26934906,  -41102.25433803,  -93281.69258373, ...,\n",
       "        -541322.74224855,  -95478.65061925, -492076.22259669],\n",
       "       ...,\n",
       "       [-219720.17584783,  -25965.94184883,   88796.907172  , ...,\n",
       "        -511842.41539672, -145077.58102217, -444442.58728756],\n",
       "       [-102855.55034695, -113198.14669626, -235869.1326902 , ...,\n",
       "        -170873.61297186, -219234.20334562,   22801.66980436],\n",
       "       [ -13911.25216627,  -15928.43617732,  -22364.20819078, ...,\n",
       "        -142546.74090202,  -34005.73262734,  -86669.98632836]])"
      ]
     },
     "execution_count": 22,
     "metadata": {},
     "output_type": "execute_result"
    }
   ],
   "source": [
    "calculation = data_testing.dot(weights)\n",
    "calculation"
   ]
  },
  {
   "cell_type": "code",
   "execution_count": 23,
   "metadata": {},
   "outputs": [
    {
     "data": {
      "text/plain": [
       "(2000,)"
      ]
     },
     "execution_count": 23,
     "metadata": {},
     "output_type": "execute_result"
    }
   ],
   "source": [
    "result = np.argmax(calculation, axis=1)\n",
    "result.shape"
   ]
  },
  {
   "cell_type": "code",
   "execution_count": 24,
   "metadata": {},
   "outputs": [
    {
     "data": {
      "text/plain": [
       "array([[136,   1,   2,  12,   0,   0,  25,   0,   2,   0],\n",
       "       [  0, 183,   3,   5,   0,   0,   0,   0,   0,   0],\n",
       "       [  2,   1, 185,   3,   3,   1,  13,   0,   2,   0],\n",
       "       [  4,   3,   4, 176,   0,   0,   4,   0,   0,   0],\n",
       "       [  0,  12,  84,  19,  34,   0,  61,   0,   2,   0],\n",
       "       [  1,   0,   0,   2,   0, 186,   1,   8,   2,  14],\n",
       "       [ 21,   6,  39,  11,   4,   0, 116,   0,   3,   0],\n",
       "       [  0,   0,   0,   0,   0,  10,   0, 182,   0,   6],\n",
       "       [  0,   0,   2,   2,   1,   2,   7,   2, 203,   0],\n",
       "       [  0,   0,   1,   0,   0,   3,   1,   5,   0, 177]], dtype=int64)"
      ]
     },
     "execution_count": 24,
     "metadata": {},
     "output_type": "execute_result"
    }
   ],
   "source": [
    "from sklearn.metrics import confusion_matrix\n",
    "from sklearn.metrics import accuracy_score\n",
    "confusion_matrix(label_testing, result)"
   ]
  },
  {
   "cell_type": "code",
   "execution_count": 26,
   "metadata": {},
   "outputs": [
    {
     "name": "stdout",
     "output_type": "stream",
     "text": [
      "78.9 %\n"
     ]
    }
   ],
   "source": [
    "print(accuracy_score(label_testing, result)*100, \"%\")"
   ]
  },
  {
   "cell_type": "code",
   "execution_count": null,
   "metadata": {},
   "outputs": [],
   "source": []
  }
 ],
 "metadata": {
  "kernelspec": {
   "display_name": "Python 3",
   "language": "python",
   "name": "python3"
  },
  "language_info": {
   "codemirror_mode": {
    "name": "ipython",
    "version": 3
   },
   "file_extension": ".py",
   "mimetype": "text/x-python",
   "name": "python",
   "nbconvert_exporter": "python",
   "pygments_lexer": "ipython3",
   "version": "3.7.0"
  }
 },
 "nbformat": 4,
 "nbformat_minor": 2
}
