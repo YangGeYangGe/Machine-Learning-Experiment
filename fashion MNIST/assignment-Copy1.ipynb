{
 "cells": [
  {
   "cell_type": "code",
   "execution_count": 1,
   "metadata": {},
   "outputs": [
    {
     "name": "stderr",
     "output_type": "stream",
     "text": [
      "/Users/geyang/anaconda3/lib/python3.6/site-packages/h5py/__init__.py:36: FutureWarning: Conversion of the second argument of issubdtype from `float` to `np.floating` is deprecated. In future, it will be treated as `np.float64 == np.dtype(float).type`.\n",
      "  from ._conv import register_converters as _register_converters\n"
     ]
    }
   ],
   "source": [
    "import h5py\n",
    "import numpy as np \n",
    "with h5py.File('images_training.h5','r') as H:\n",
    "    data = np.copy(H['data']) \n",
    "with h5py.File('labels_training.h5','r') as H:\n",
    "    label = np.copy(H['label'])"
   ]
  },
  {
   "cell_type": "code",
   "execution_count": 2,
   "metadata": {},
   "outputs": [],
   "source": [
    "m=data.shape[1]*data.shape[2]\n",
    "data1 = data.reshape(30000,m)\n",
    "del data"
   ]
  },
  {
   "cell_type": "code",
   "execution_count": 3,
   "metadata": {},
   "outputs": [
    {
     "data": {
      "text/plain": [
       "10"
      ]
     },
     "execution_count": 3,
     "metadata": {},
     "output_type": "execute_result"
    }
   ],
   "source": [
    "target = set()\n",
    "for i in label:\n",
    "    target.add(i)\n",
    "d = len(list(target))\n",
    "d"
   ]
  },
  {
   "cell_type": "code",
   "execution_count": 4,
   "metadata": {},
   "outputs": [],
   "source": [
    "# ovr, label \"1\" vs. not label \"1\" \n",
    "label1 = np.array([])\n",
    "for i in range(d):\n",
    "    label_tmp=np.copy(label)\n",
    "    for tmp in range(len(label_tmp)):\n",
    "        if label_tmp[tmp] != i:\n",
    "            label_tmp[tmp] = 0\n",
    "        else:\n",
    "            label_tmp[tmp] = 1\n",
    "    label_tmp= label_tmp.reshape(-1,1)\n",
    "    if i == 0:\n",
    "        label1 = np.copy(label_tmp)\n",
    "    else:\n",
    "        label1 = np.append(label1, label_tmp, axis=1)\n",
    "del label_tmp"
   ]
  },
  {
   "cell_type": "code",
   "execution_count": 5,
   "metadata": {},
   "outputs": [],
   "source": [
    "# X_std = (X - X.min(axis=0)) / (X.max(axis=0) - X.min(axis=0))\n",
    "mindata = data1.min(axis=0)\n",
    "maxdata = data1.max(axis=0)\n",
    "data_normalize = (data1-mindata) / (maxdata - mindata)"
   ]
  },
  {
   "cell_type": "code",
   "execution_count": 6,
   "metadata": {},
   "outputs": [],
   "source": [
    "# # used scikit-learn library, need to implemenet ourselve later\n",
    "# from sklearn.preprocessing import normalize,StandardScaler\n",
    "# # data_normalize = normalize(data1)\n",
    "# scaler = StandardScaler().fit(data1)\n",
    "# data_normalize = scaler.transform(data1)\n",
    "# del data1"
   ]
  },
  {
   "cell_type": "code",
   "execution_count": 7,
   "metadata": {},
   "outputs": [],
   "source": [
    "class PCA():\n",
    "    def calculate_covariance_matrix(self, X, Y=None):\n",
    "        # 计算协方差矩阵\n",
    "\n",
    "        m = X.shape[0]\n",
    "        X = X - np.mean(X, axis=0)\n",
    "        Y = X if Y == None else Y - np.mean(Y, axis=0)\n",
    "        return 1 / m * np.matmul(X.T, Y)\n",
    "\n",
    "    def transform(self, X, n_components):\n",
    "        # 设n=X.shape[1]，将n维数据降维成n_component维\n",
    "\n",
    "        covariance_matrix = self.calculate_covariance_matrix(X)\n",
    "\n",
    "        # 获取特征值，和特征向量\n",
    "        eigenvalues, eigenvectors = np.linalg.eig(covariance_matrix)\n",
    "\n",
    "        # 对特征向量排序，并取最大的前n_component组\n",
    "        idx = eigenvalues.argsort()[::-1]\n",
    "        eigenvectors = eigenvectors[:, idx]\n",
    "        eigenvectors = eigenvectors[:, :n_components]\n",
    "\n",
    "        # 转换\n",
    "        return np.matmul(X, eigenvectors), eigenvectors\n"
   ]
  },
  {
   "cell_type": "code",
   "execution_count": 8,
   "metadata": {},
   "outputs": [],
   "source": [
    "data_normalize, eigenvectors = PCA().transform(data_normalize, 200)"
   ]
  },
  {
   "cell_type": "code",
   "execution_count": 9,
   "metadata": {},
   "outputs": [
    {
     "data": {
      "text/plain": [
       "(30000, 200)"
      ]
     },
     "execution_count": 9,
     "metadata": {},
     "output_type": "execute_result"
    }
   ],
   "source": [
    "data_normalize.shape"
   ]
  },
  {
   "cell_type": "code",
   "execution_count": 10,
   "metadata": {},
   "outputs": [],
   "source": [
    "def f(w, data,label):\n",
    "    data = np.matrix(data)\n",
    "    label = np.matrix(label)\n",
    "    w = np.matrix(w)\n",
    "    \n",
    "    w=w.reshape(-1,1)\n",
    "    \n",
    "    z = data.dot(w)\n",
    "    return np.sum(np.log(1+np.exp(z))- np.multiply(label,z) ,axis=0)\n",
    "\n",
    "\n",
    "def jacobian(weights,inputs, targets ):\n",
    "#     (weights, inputs, targets)\n",
    "    inputs = np.matrix(inputs)\n",
    "    targets = np.matrix(targets)\n",
    "    weights = np.matrix(weights)\n",
    "    weights=weights.reshape(-1,1)\n",
    "    \n",
    "    z = np.dot(inputs, weights)\n",
    "    exp_z = np.exp(z)\n",
    "#     print(exp_z)\n",
    "    temp = -exp_z/(1 + exp_z) + targets\n",
    "    dloss = -np.sum(np.multiply(temp,inputs), axis=0)\n",
    "    dloss = dloss.flatten()\n",
    "    return dloss"
   ]
  },
  {
   "cell_type": "code",
   "execution_count": 11,
   "metadata": {},
   "outputs": [
    {
     "name": "stdout",
     "output_type": "stream",
     "text": [
      "0\n",
      "1\n",
      "2\n",
      "3\n",
      "4\n",
      "5\n",
      "6\n",
      "7\n",
      "8\n",
      "9\n",
      "47.03070116043091\n"
     ]
    }
   ],
   "source": [
    "\n",
    "from scipy.optimize import minimize\n",
    "import numpy.linalg as lng\n",
    "import time\n",
    "# weights = np.random.random(data1.shape[1])[:, np.newaxis]\n",
    "weights = np.array([])\n",
    "t1 = time.time()\n",
    "for i in range(d):\n",
    "#     weight = np.random.random(data_normalize.shape[1])[:, np.newaxis]\n",
    "    weight = np.full((data_normalize.shape[1], 1), 0.1)\n",
    "    current_label = (label1[:,i]).reshape(-1,1)\n",
    "    print(i)\n",
    "    p = {\"maxiter\":400}\n",
    "\n",
    "    result = minimize(f, weight,\n",
    "                      jac =jacobian,method=\"L-BFGS-B\",tol=1e-4,\n",
    "                      args=(data_normalize,current_label), options = p) \n",
    "    weight = (result.x).reshape(-1,1)\n",
    "#     print(weight.shape)\n",
    "    if i == 0:\n",
    "        weights = weight\n",
    "    else:\n",
    "        weights = np.append(weights, weight, axis = 1)\n",
    "t2 = time.time() \n"
   ]
  },
  {
   "cell_type": "code",
   "execution_count": 21,
   "metadata": {},
   "outputs": [
    {
     "name": "stdout",
     "output_type": "stream",
     "text": [
      "47.03070116043091 seconds\n"
     ]
    }
   ],
   "source": [
    "print(str(t2-t1),\"seconds\")"
   ]
  },
  {
   "cell_type": "code",
   "execution_count": 13,
   "metadata": {},
   "outputs": [
    {
     "name": "stdout",
     "output_type": "stream",
     "text": [
      "(2000, 200)\n",
      "(2000,)\n"
     ]
    },
    {
     "data": {
      "text/plain": [
       "(2000,)"
      ]
     },
     "execution_count": 13,
     "metadata": {},
     "output_type": "execute_result"
    }
   ],
   "source": [
    "with h5py.File('images_testing.h5','r') as H:\n",
    "    data_testing = np.copy(H['data']) \n",
    "with h5py.File('labels_testing_2000.h5','r') as H:\n",
    "    label_testing = np.copy(H['label'])\n",
    "    \n",
    "data_testing = np.delete(data_testing, np.s_[2000:5000], 0)\n",
    "\n",
    "data_testing = data_testing.reshape(2000,-1)\n",
    "data_testing = (data_testing-mindata) / (maxdata - mindata)\n",
    "data_testing = np.matmul(data_testing, eigenvectors)\n",
    "print(data_testing.shape)\n",
    "print(label_testing.shape)\n",
    "calculation = data_testing.dot(weights)\n",
    "calculation\n",
    "result = np.argmax(calculation, axis=1)\n",
    "result.shape"
   ]
  },
  {
   "cell_type": "code",
   "execution_count": 14,
   "metadata": {},
   "outputs": [
    {
     "data": {
      "text/plain": [
       "array([[147,   0,   1,  10,   0,   0,  16,   0,   4,   0],\n",
       "       [  0, 185,   0,   5,   0,   0,   1,   0,   0,   0],\n",
       "       [  2,   1, 153,   0,  37,   0,  14,   0,   3,   0],\n",
       "       [  7,   0,   1, 170,   6,   0,   3,   0,   4,   0],\n",
       "       [  0,   1,  23,  10, 164,   0,  13,   0,   1,   0],\n",
       "       [  0,   1,   0,   0,   0, 182,   0,  13,   3,  15],\n",
       "       [ 29,   2,  30,   9,  25,   0,  97,   0,   8,   0],\n",
       "       [  0,   0,   0,   0,   0,   5,   0, 185,   0,   8],\n",
       "       [  0,   0,   1,   2,   1,   2,   3,   2, 208,   0],\n",
       "       [  0,   0,   0,   0,   0,   3,   0,   3,   1, 180]])"
      ]
     },
     "execution_count": 14,
     "metadata": {},
     "output_type": "execute_result"
    }
   ],
   "source": [
    "from sklearn.metrics import confusion_matrix\n",
    "from sklearn.metrics import accuracy_score\n",
    "confusion_matrix(label_testing, result)"
   ]
  },
  {
   "cell_type": "code",
   "execution_count": 15,
   "metadata": {},
   "outputs": [
    {
     "name": "stdout",
     "output_type": "stream",
     "text": [
      "83.55 %\n"
     ]
    }
   ],
   "source": [
    "print(accuracy_score(label_testing, result)*100, \"%\")"
   ]
  },
  {
   "cell_type": "code",
   "execution_count": null,
   "metadata": {},
   "outputs": [],
   "source": []
  },
  {
   "cell_type": "code",
   "execution_count": 16,
   "metadata": {},
   "outputs": [],
   "source": [
    "# #from tutorial\n",
    "# from scipy.special import expit, logit\n",
    "# def logistic_loss_and_grad(weights, inputs, targets):\n",
    "\n",
    "#     #derivative of the loss function\n",
    "    \n",
    "#     z = np.dot(inputs, weights)\n",
    "    \n",
    "# #     exp_z = np.exp(z)\n",
    "#     exp_z = np.exp(z)\n",
    "#     temp = -exp_z/(1 + exp_z) + targets\n",
    "# #     print(temp.shape, inputs.shape, (temp*inputs).shape)\n",
    "#     dloss = -np.sum(temp*inputs, axis=0)[:, np.newaxis]\n",
    "\n",
    "# #     temp = exp_z/(1 + exp_z) - targets\n",
    "# #     dloss = np.sum(temp*inputs, axis=0)[:, np.newaxis]\n",
    "\n",
    "\n",
    "#     return dloss\n",
    "\n",
    "# import numpy.linalg as lng\n",
    "# # old_settings = np.seterr(all='ignore')\n",
    "\n",
    "# # weights = np.random.random(data1.shape[1])[:, np.newaxis]\n",
    "# weights = np.array([])\n",
    "# eta = 0.03\n",
    "# # n_iter = 2000\n",
    "# n_iter = 2\n",
    "# eps = 1e-10\n",
    "\n",
    "# for i in range(d):\n",
    "#     weight = np.random.random(data_normalize.shape[1])[:, np.newaxis]\n",
    "#     current_label = (label1[:,i]).reshape(-1,1)\n",
    "# #     print(weight)\n",
    "    \n",
    "#     for epoch in range(n_iter):\n",
    "#         dloss = logistic_loss_and_grad(weight, data_normalize, current_label)\n",
    "        \n",
    "#         weight_new = weight - dloss * eta\n",
    "#         diff = lng.norm(weight_new - weight)\n",
    "#         weight = weight_new\n",
    "#         if diff < eps:\n",
    "#             break\n",
    "# #     print(weight_new)\n",
    "#     if i == 0:\n",
    "#         weights = weight\n",
    "#     else:\n",
    "#         weights = np.append(weights, weight, axis = 1)\n",
    "    "
   ]
  }
 ],
 "metadata": {
  "kernelspec": {
   "display_name": "Python 3",
   "language": "python",
   "name": "python3"
  },
  "language_info": {
   "codemirror_mode": {
    "name": "ipython",
    "version": 3
   },
   "file_extension": ".py",
   "mimetype": "text/x-python",
   "name": "python",
   "nbconvert_exporter": "python",
   "pygments_lexer": "ipython3",
   "version": "3.6.4"
  }
 },
 "nbformat": 4,
 "nbformat_minor": 2
}
