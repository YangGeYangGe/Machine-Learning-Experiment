{
 "cells": [
  {
   "cell_type": "code",
   "execution_count": 1,
   "metadata": {},
   "outputs": [
    {
     "name": "stderr",
     "output_type": "stream",
     "text": [
      "/Users/geyang/anaconda3/lib/python3.6/site-packages/h5py/__init__.py:36: FutureWarning: Conversion of the second argument of issubdtype from `float` to `np.floating` is deprecated. In future, it will be treated as `np.float64 == np.dtype(float).type`.\n",
      "  from ._conv import register_converters as _register_converters\n"
     ]
    }
   ],
   "source": [
    "import h5py\n",
    "import numpy as np \n",
    "with h5py.File('images_training.h5','r') as H:\n",
    "    data = np.copy(H['data']) \n",
    "with h5py.File('labels_training.h5','r') as H:\n",
    "    label = np.copy(H['label'])"
   ]
  },
  {
   "cell_type": "code",
   "execution_count": 2,
   "metadata": {},
   "outputs": [
    {
     "data": {
      "text/plain": [
       "(30000, 28, 28)"
      ]
     },
     "execution_count": 2,
     "metadata": {},
     "output_type": "execute_result"
    }
   ],
   "source": [
    "data.shape"
   ]
  },
  {
   "cell_type": "code",
   "execution_count": 3,
   "metadata": {},
   "outputs": [
    {
     "data": {
      "text/plain": [
       "2"
      ]
     },
     "execution_count": 3,
     "metadata": {},
     "output_type": "execute_result"
    }
   ],
   "source": [
    "label[-1]"
   ]
  },
  {
   "cell_type": "code",
   "execution_count": 4,
   "metadata": {},
   "outputs": [],
   "source": [
    "m=data.shape[1]*data.shape[2]\n",
    "data1 = data.reshape(30000,m)\n",
    "del data"
   ]
  },
  {
   "cell_type": "code",
   "execution_count": 5,
   "metadata": {},
   "outputs": [
    {
     "data": {
      "text/plain": [
       "(30000, 784)"
      ]
     },
     "execution_count": 5,
     "metadata": {},
     "output_type": "execute_result"
    }
   ],
   "source": [
    "data1.shape"
   ]
  },
  {
   "cell_type": "code",
   "execution_count": 6,
   "metadata": {},
   "outputs": [
    {
     "data": {
      "text/plain": [
       "10"
      ]
     },
     "execution_count": 6,
     "metadata": {},
     "output_type": "execute_result"
    }
   ],
   "source": [
    "target = set()\n",
    "for i in label:\n",
    "    target.add(i)\n",
    "d = len(list(target))\n",
    "d"
   ]
  },
  {
   "cell_type": "code",
   "execution_count": 7,
   "metadata": {},
   "outputs": [],
   "source": [
    "# ovr, label \"1\" vs. not label \"1\" \n",
    "label1 = np.array([])\n",
    "for i in range(d):\n",
    "    label_tmp=np.copy(label)\n",
    "    for tmp in range(len(label_tmp)):\n",
    "        if label_tmp[tmp] != i:\n",
    "            label_tmp[tmp] = 0\n",
    "        else:\n",
    "            label_tmp[tmp] = 1\n",
    "    label_tmp= label_tmp.reshape(-1,1)\n",
    "    if i == 0:\n",
    "        label1 = np.copy(label_tmp)\n",
    "    else:\n",
    "        label1 = np.append(label1, label_tmp, axis=1)\n",
    "del label_tmp"
   ]
  },
  {
   "cell_type": "code",
   "execution_count": 8,
   "metadata": {},
   "outputs": [
    {
     "data": {
      "text/plain": [
       "(30000, 10)"
      ]
     },
     "execution_count": 8,
     "metadata": {},
     "output_type": "execute_result"
    }
   ],
   "source": [
    "label1.shape\n"
   ]
  },
  {
   "cell_type": "code",
   "execution_count": 9,
   "metadata": {},
   "outputs": [
    {
     "data": {
      "text/plain": [
       "2"
      ]
     },
     "execution_count": 9,
     "metadata": {},
     "output_type": "execute_result"
    }
   ],
   "source": [
    "label[-1]"
   ]
  },
  {
   "cell_type": "code",
   "execution_count": 10,
   "metadata": {},
   "outputs": [
    {
     "data": {
      "text/plain": [
       "array([[1, 0, 0, ..., 0, 0, 0],\n",
       "       [0, 0, 1, ..., 0, 0, 0],\n",
       "       [0, 0, 0, ..., 0, 0, 0],\n",
       "       ...,\n",
       "       [0, 0, 0, ..., 0, 0, 0],\n",
       "       [0, 1, 0, ..., 0, 0, 0],\n",
       "       [0, 0, 1, ..., 0, 0, 0]], dtype=uint8)"
      ]
     },
     "execution_count": 10,
     "metadata": {},
     "output_type": "execute_result"
    }
   ],
   "source": [
    "label1"
   ]
  },
  {
   "cell_type": "code",
   "execution_count": 11,
   "metadata": {},
   "outputs": [],
   "source": [
    "#used scikit-learn library, need to implemenet ourselve later\n",
    "from sklearn.preprocessing import normalize\n",
    "data_normalize = normalize(data1)\n",
    "del data1"
   ]
  },
  {
   "cell_type": "code",
   "execution_count": 12,
   "metadata": {},
   "outputs": [
    {
     "data": {
      "text/plain": [
       "(30000, 784)"
      ]
     },
     "execution_count": 12,
     "metadata": {},
     "output_type": "execute_result"
    }
   ],
   "source": [
    "data_normalize.shape"
   ]
  },
  {
   "cell_type": "code",
   "execution_count": 13,
   "metadata": {},
   "outputs": [],
   "source": [
    "class PCA():\n",
    "    def calculate_covariance_matrix(self, X, Y=None):\n",
    "        # 计算协方差矩阵\n",
    "\n",
    "        m = X.shape[0]\n",
    "        X = X - np.mean(X, axis=0)\n",
    "        Y = X if Y == None else Y - np.mean(Y, axis=0)\n",
    "        return 1 / m * np.matmul(X.T, Y)\n",
    "\n",
    "    def transform(self, X, n_components):\n",
    "        # 设n=X.shape[1]，将n维数据降维成n_component维\n",
    "\n",
    "        covariance_matrix = self.calculate_covariance_matrix(X)\n",
    "\n",
    "        # 获取特征值，和特征向量\n",
    "        eigenvalues, eigenvectors = np.linalg.eig(covariance_matrix)\n",
    "\n",
    "        # 对特征向量排序，并取最大的前n_component组\n",
    "        idx = eigenvalues.argsort()[::-1]\n",
    "        eigenvectors = eigenvectors[:, idx]\n",
    "        eigenvectors = eigenvectors[:, :n_components]\n",
    "\n",
    "        # 转换\n",
    "        return np.matmul(X, eigenvectors), eigenvectors\n"
   ]
  },
  {
   "cell_type": "code",
   "execution_count": 14,
   "metadata": {},
   "outputs": [],
   "source": [
    "data_normalize, eigenvectors = PCA().transform(data_normalize, 200)"
   ]
  },
  {
   "cell_type": "code",
   "execution_count": 15,
   "metadata": {},
   "outputs": [
    {
     "data": {
      "text/plain": [
       "(30000, 200)"
      ]
     },
     "execution_count": 15,
     "metadata": {},
     "output_type": "execute_result"
    }
   ],
   "source": [
    "data_normalize.shape"
   ]
  },
  {
   "cell_type": "code",
   "execution_count": 16,
   "metadata": {},
   "outputs": [],
   "source": [
    "#from tutorial\n",
    "def logistic_loss_and_grad(weights, inputs, targets):\n",
    "\n",
    "    #derivative of the loss function\n",
    "    z = np.dot(inputs, weights)\n",
    "    exp_z = np.exp(z)\n",
    "    temp = -exp_z/(1 + exp_z) + targets\n",
    "#     print(temp.shape, inputs.shape, (temp*inputs).shape)\n",
    "    dloss = -np.sum(temp*inputs, axis=0)[:, np.newaxis]\n",
    "\n",
    "    return dloss"
   ]
  },
  {
   "cell_type": "code",
   "execution_count": 17,
   "metadata": {},
   "outputs": [
    {
     "name": "stdout",
     "output_type": "stream",
     "text": [
      "0\n",
      "1\n",
      "2\n",
      "3\n",
      "4\n",
      "5\n",
      "6\n",
      "7\n",
      "8\n",
      "9\n"
     ]
    }
   ],
   "source": [
    "import numpy.linalg as lng\n",
    "# weights = np.random.random(data1.shape[1])[:, np.newaxis]\n",
    "weights = np.array([])\n",
    "eta = 0.03\n",
    "# n_iter = 2000\n",
    "n_iter = 2000\n",
    "eps = 1e-10\n",
    "\n",
    "for i in range(d):\n",
    "    weight = np.random.random(data_normalize.shape[1])[:, np.newaxis]\n",
    "    current_label = (label1[:,i]).reshape(-1,1)\n",
    "    print(i)\n",
    "    \n",
    "    for epoch in range(n_iter):\n",
    "        dloss = logistic_loss_and_grad(weight, data_normalize, current_label)\n",
    "        weight_new = weight - dloss * eta\n",
    "        diff = lng.norm(weight_new - weight)\n",
    "        weight = weight_new\n",
    "        if diff < eps:\n",
    "            break\n",
    "    if i == 0:\n",
    "        weights = weight\n",
    "    else:\n",
    "        weights = np.append(weights, weight, axis = 1)"
   ]
  },
  {
   "cell_type": "code",
   "execution_count": 18,
   "metadata": {},
   "outputs": [
    {
     "data": {
      "text/plain": [
       "(200, 10)"
      ]
     },
     "execution_count": 18,
     "metadata": {},
     "output_type": "execute_result"
    }
   ],
   "source": [
    "weights.shape"
   ]
  },
  {
   "cell_type": "code",
   "execution_count": 19,
   "metadata": {},
   "outputs": [],
   "source": [
    "\n",
    "with h5py.File('images_testing.h5','r') as H:\n",
    "    data_testing = np.copy(H['data']) \n",
    "with h5py.File('labels_testing_2000.h5','r') as H:\n",
    "    label_testing = np.copy(H['label'])"
   ]
  },
  {
   "cell_type": "code",
   "execution_count": 20,
   "metadata": {},
   "outputs": [],
   "source": [
    "data_testing = np.delete(data_testing, np.s_[2000:5000], 0)"
   ]
  },
  {
   "cell_type": "code",
   "execution_count": 21,
   "metadata": {},
   "outputs": [
    {
     "name": "stdout",
     "output_type": "stream",
     "text": [
      "(2000, 200)\n",
      "(2000,)\n"
     ]
    }
   ],
   "source": [
    "data_testing = data_testing.reshape(2000,-1)\n",
    "data_testing = np.matmul(data_testing, eigenvectors)\n",
    "print(data_testing.shape)\n",
    "print(label_testing.shape)"
   ]
  },
  {
   "cell_type": "code",
   "execution_count": 22,
   "metadata": {},
   "outputs": [
    {
     "data": {
      "text/plain": [
       "array([[-160614.94249018,  -35981.40845681, -237369.79265982, ...,\n",
       "        -151227.82948727,  -86078.02561989, -119845.5077393 ],\n",
       "       [-355762.10142245,  -47121.27525448, -232143.98935492, ...,\n",
       "        -464442.15657574, -112035.76728436, -470410.11469028],\n",
       "       [-465308.43657988,  -40526.46958163, -379896.48591458, ...,\n",
       "        -452757.67793719,  -60699.06598486, -467735.12799684],\n",
       "       ...,\n",
       "       [-377070.03619057,  -32023.85170745, -166511.43453529, ...,\n",
       "        -420589.79369454,  -97229.47690385, -425911.1597071 ],\n",
       "       [-239177.66436525,  -87337.00022889, -424057.78325061, ...,\n",
       "        -160157.48732049, -168556.28765592,   31592.79178458],\n",
       "       [ -46770.06016709,  -17648.5232588 ,  -80784.06887655, ...,\n",
       "        -118122.04132521,  -29010.70597599,  -77926.84133331]])"
      ]
     },
     "execution_count": 22,
     "metadata": {},
     "output_type": "execute_result"
    }
   ],
   "source": [
    "calculation = data_testing.dot(weights)\n",
    "calculation"
   ]
  },
  {
   "cell_type": "code",
   "execution_count": 23,
   "metadata": {},
   "outputs": [
    {
     "data": {
      "text/plain": [
       "(2000,)"
      ]
     },
     "execution_count": 23,
     "metadata": {},
     "output_type": "execute_result"
    }
   ],
   "source": [
    "result = np.argmax(calculation, axis=1)\n",
    "result.shape"
   ]
  },
  {
   "cell_type": "code",
   "execution_count": 24,
   "metadata": {},
   "outputs": [
    {
     "data": {
      "text/plain": [
       "array([[ 63,  52,   0,  37,   0,   0,  13,   0,  13,   0],\n",
       "       [  0, 186,   0,   5,   0,   0,   0,   0,   0,   0],\n",
       "       [  0,  97,  77,   4,   7,   1,   3,   0,  21,   0],\n",
       "       [  0,   6,   0, 182,   0,   0,   1,   0,   2,   0],\n",
       "       [  0,  95,   5,  27,  59,   0,   9,   0,  17,   0],\n",
       "       [  0,   1,   0,   1,   0, 190,   0,   8,   1,  13],\n",
       "       [  4,  54,   9,  25,   8,   0,  81,   0,  19,   0],\n",
       "       [  0,   0,   0,   0,   0,  12,   0, 179,   0,   7],\n",
       "       [  0,   1,   0,   4,   1,   3,   1,   1, 208,   0],\n",
       "       [  0,   0,   0,   0,   0,   3,   0,   3,   1, 180]])"
      ]
     },
     "execution_count": 24,
     "metadata": {},
     "output_type": "execute_result"
    }
   ],
   "source": [
    "from sklearn.metrics import confusion_matrix\n",
    "from sklearn.metrics import accuracy_score\n",
    "confusion_matrix(label_testing, result)"
   ]
  },
  {
   "cell_type": "code",
   "execution_count": 25,
   "metadata": {},
   "outputs": [
    {
     "name": "stdout",
     "output_type": "stream",
     "text": [
      "70.25 %\n"
     ]
    }
   ],
   "source": [
    "print(accuracy_score(label_testing, result)*100, \"%\")"
   ]
  },
  {
   "cell_type": "code",
   "execution_count": null,
   "metadata": {},
   "outputs": [],
   "source": []
  }
 ],
 "metadata": {
  "kernelspec": {
   "display_name": "Python 3",
   "language": "python",
   "name": "python3"
  },
  "language_info": {
   "codemirror_mode": {
    "name": "ipython",
    "version": 3
   },
   "file_extension": ".py",
   "mimetype": "text/x-python",
   "name": "python",
   "nbconvert_exporter": "python",
   "pygments_lexer": "ipython3",
   "version": "3.6.4"
  }
 },
 "nbformat": 4,
 "nbformat_minor": 2
}
