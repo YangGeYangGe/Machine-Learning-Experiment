{
  "nbformat": 4,
  "nbformat_minor": 0,
  "metadata": {
    "colab": {
      "name": "predict.ipynb",
      "version": "0.3.2",
      "provenance": [],
      "collapsed_sections": []
    },
    "kernelspec": {
      "name": "python3",
      "display_name": "Python 3"
    },
    "accelerator": "GPU"
  },
  "cells": [
    {
      "cell_type": "code",
      "metadata": {
        "id": "4vu4kdyCj31f",
        "colab_type": "code",
        "outputId": "aca5829d-3cf7-43e9-9765-95f6d2dcabcf",
        "colab": {
          "base_uri": "https://localhost:8080/",
          "height": 55
        }
      },
      "source": [
        "\n",
        "import numpy as np\n",
        "import pandas as pd\n",
        "import tensorflow as tf\n",
        "from tensorflow.keras.models import load_model\n",
        "from tensorflow import keras\n",
        "import tarfile\n",
        "\n",
        "\n",
        "from google.colab import drive\n",
        "drive.mount('/content/drive')"
      ],
      "execution_count": 9,
      "outputs": [
        {
          "output_type": "stream",
          "text": [
            "Drive already mounted at /content/drive; to attempt to forcibly remount, call drive.mount(\"/content/drive\", force_remount=True).\n"
          ],
          "name": "stdout"
        }
      ]
    },
    {
      "cell_type": "code",
      "metadata": {
        "id": "sICHMEEOEsiF",
        "colab_type": "code",
        "outputId": "0e8f9fab-e7f7-41d9-832e-6f95623d3802",
        "colab": {
          "base_uri": "https://localhost:8080/",
          "height": 35
        }
      },
      "source": [
        "print(tf.__version__)"
      ],
      "execution_count": 0,
      "outputs": [
        {
          "output_type": "stream",
          "text": [
            "1.13.1\n"
          ],
          "name": "stdout"
        }
      ]
    },
    {
      "cell_type": "code",
      "metadata": {
        "id": "n_tkCSjFj9uR",
        "colab_type": "code",
        "outputId": "6f090376-61ee-47bc-d2ef-01ef38f4fca5",
        "colab": {
          "base_uri": "https://localhost:8080/",
          "height": 55
        }
      },
      "source": [
        "path = \"/content/drive/My Drive/comp5329assignment2/\"\n",
        "model = load_model(path+\"my_model.h5\")"
      ],
      "execution_count": 10,
      "outputs": [
        {
          "output_type": "stream",
          "text": [
            "WARNING:tensorflow:Error in loading the saved optimizer state. As a result, your model is starting with a freshly initialized optimizer.\n"
          ],
          "name": "stdout"
        }
      ]
    },
    {
      "cell_type": "code",
      "metadata": {
        "id": "J5UzwcsCkBUO",
        "colab_type": "code",
        "outputId": "a4416fd8-b846-484f-ed31-55689d14a3fd",
        "colab": {
          "base_uri": "https://localhost:8080/",
          "height": 35
        }
      },
      "source": [
        "tar = tarfile.open(path+\"test.tar.gz\")\n",
        "\n",
        "names = tar.getnames()\n",
        "for name in names:\n",
        "    tar.extract(name, path = \"/content/test_data/\")\n",
        "tar.close()\n",
        "names = names[1:]\n",
        "test_files_name = []\n",
        "for n in names:\n",
        "    test_files_name.append(n[8:])\n",
        "    \n",
        "# 15516\n",
        "len(test_files_name)"
      ],
      "execution_count": 11,
      "outputs": [
        {
          "output_type": "execute_result",
          "data": {
            "text/plain": [
              "15516"
            ]
          },
          "metadata": {
            "tags": []
          },
          "execution_count": 11
        }
      ]
    },
    {
      "cell_type": "code",
      "metadata": {
        "id": "N99KP0AOkEau",
        "colab_type": "code",
        "outputId": "c4411b6f-c82f-440b-9cc8-8a0cd4333511",
        "colab": {
          "base_uri": "https://localhost:8080/",
          "height": 54
        }
      },
      "source": [
        "image_size = 224\n",
        "test_df = pd.DataFrame(test_files_name,columns = ['test_filenames'])\n",
        "validation_datagen = keras.preprocessing.image.ImageDataGenerator(rescale = 1./255)\n",
        "test_dir = \"/content/test_data/val2014\"\n",
        "test_generator = validation_datagen.flow_from_dataframe(\n",
        "    dataframe = test_df,\n",
        "    directory = test_dir,\n",
        "    x_col = 'test_filenames',\n",
        "    batch_size = 32,\n",
        "    seed = 42,\n",
        "    shuffle = False,\n",
        "    class_mode = None,\n",
        "    target_size = (image_size, image_size)\n",
        "    )\n",
        "test_generator.reset()\n",
        "\n",
        "y_pre_cat = model.predict_generator( test_generator, verbose=1 )\n",
        "y_pred = np.argmax(y_pre_cat, axis=1)\n",
        "\n",
        "assert(y_pred.shape[0] == 15516)\n",
        "\n",
        "test_file = np.array(test_files_name)\n",
        "labels_arr = np.append(test_file.reshape(-1,1),y_pred.reshape(-1,1), axis = 1)\n"
      ],
      "execution_count": 12,
      "outputs": [
        {
          "output_type": "stream",
          "text": [
            "Found 15516 images.\n",
            "485/485 [==============================] - 138s 285ms/step\n"
          ],
          "name": "stdout"
        }
      ]
    },
    {
      "cell_type": "code",
      "metadata": {
        "id": "-eyKmA9lkE16",
        "colab_type": "code",
        "colab": {}
      },
      "source": [
        "# pd.DataFrame(labels_arr).to_csv(\"/content/drive/My Drive/comp5329assignment2/Prediected_labels.txt\", header=None, index=None, sep='\\t')\n",
        "labels = pd.DataFrame(labels_arr)"
      ],
      "execution_count": 0,
      "outputs": []
    },
    {
      "cell_type": "code",
      "metadata": {
        "id": "pjnrH_q_SKmM",
        "colab_type": "code",
        "outputId": "8b93bac6-5dfa-4b63-9a9a-4573fb37ca73",
        "colab": {
          "base_uri": "https://localhost:8080/",
          "height": 348
        }
      },
      "source": [
        "labels[0:10]"
      ],
      "execution_count": 14,
      "outputs": [
        {
          "output_type": "execute_result",
          "data": {
            "text/html": [
              "<div>\n",
              "<style scoped>\n",
              "    .dataframe tbody tr th:only-of-type {\n",
              "        vertical-align: middle;\n",
              "    }\n",
              "\n",
              "    .dataframe tbody tr th {\n",
              "        vertical-align: top;\n",
              "    }\n",
              "\n",
              "    .dataframe thead th {\n",
              "        text-align: right;\n",
              "    }\n",
              "</style>\n",
              "<table border=\"1\" class=\"dataframe\">\n",
              "  <thead>\n",
              "    <tr style=\"text-align: right;\">\n",
              "      <th></th>\n",
              "      <th>0</th>\n",
              "      <th>1</th>\n",
              "    </tr>\n",
              "  </thead>\n",
              "  <tbody>\n",
              "    <tr>\n",
              "      <th>0</th>\n",
              "      <td>0.jpg</td>\n",
              "      <td>2</td>\n",
              "    </tr>\n",
              "    <tr>\n",
              "      <th>1</th>\n",
              "      <td>1.jpg</td>\n",
              "      <td>7</td>\n",
              "    </tr>\n",
              "    <tr>\n",
              "      <th>2</th>\n",
              "      <td>2.jpg</td>\n",
              "      <td>6</td>\n",
              "    </tr>\n",
              "    <tr>\n",
              "      <th>3</th>\n",
              "      <td>3.jpg</td>\n",
              "      <td>7</td>\n",
              "    </tr>\n",
              "    <tr>\n",
              "      <th>4</th>\n",
              "      <td>4.jpg</td>\n",
              "      <td>6</td>\n",
              "    </tr>\n",
              "    <tr>\n",
              "      <th>5</th>\n",
              "      <td>5.jpg</td>\n",
              "      <td>16</td>\n",
              "    </tr>\n",
              "    <tr>\n",
              "      <th>6</th>\n",
              "      <td>6.jpg</td>\n",
              "      <td>3</td>\n",
              "    </tr>\n",
              "    <tr>\n",
              "      <th>7</th>\n",
              "      <td>7.jpg</td>\n",
              "      <td>8</td>\n",
              "    </tr>\n",
              "    <tr>\n",
              "      <th>8</th>\n",
              "      <td>8.jpg</td>\n",
              "      <td>3</td>\n",
              "    </tr>\n",
              "    <tr>\n",
              "      <th>9</th>\n",
              "      <td>9.jpg</td>\n",
              "      <td>9</td>\n",
              "    </tr>\n",
              "  </tbody>\n",
              "</table>\n",
              "</div>"
            ],
            "text/plain": [
              "       0   1\n",
              "0  0.jpg   2\n",
              "1  1.jpg   7\n",
              "2  2.jpg   6\n",
              "3  3.jpg   7\n",
              "4  4.jpg   6\n",
              "5  5.jpg  16\n",
              "6  6.jpg   3\n",
              "7  7.jpg   8\n",
              "8  8.jpg   3\n",
              "9  9.jpg   9"
            ]
          },
          "metadata": {
            "tags": []
          },
          "execution_count": 14
        }
      ]
    }
  ]
}