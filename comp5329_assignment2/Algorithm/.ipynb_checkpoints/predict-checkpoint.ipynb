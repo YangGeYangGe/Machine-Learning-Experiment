{
 "cells": [
  {
   "cell_type": "code",
   "execution_count": 9,
   "metadata": {
    "colab": {
     "base_uri": "https://localhost:8080/",
     "height": 55
    },
    "colab_type": "code",
    "id": "4vu4kdyCj31f",
    "outputId": "aca5829d-3cf7-43e9-9765-95f6d2dcabcf"
   },
   "outputs": [
    {
     "name": "stdout",
     "output_type": "stream",
     "text": [
      "Drive already mounted at /content/drive; to attempt to forcibly remount, call drive.mount(\"/content/drive\", force_remount=True).\n"
     ]
    }
   ],
   "source": [
    "\n",
    "import numpy as np\n",
    "import pandas as pd\n",
    "import tensorflow as tf\n",
    "from tensorflow.keras.models import load_model\n",
    "from tensorflow import keras\n",
    "import tarfile\n",
    "\n",
    "\n",
    "from google.colab import drive\n",
    "drive.mount('/content/drive')"
   ]
  },
  {
   "cell_type": "code",
   "execution_count": 0,
   "metadata": {
    "colab": {
     "base_uri": "https://localhost:8080/",
     "height": 35
    },
    "colab_type": "code",
    "id": "sICHMEEOEsiF",
    "outputId": "0e8f9fab-e7f7-41d9-832e-6f95623d3802"
   },
   "outputs": [
    {
     "name": "stdout",
     "output_type": "stream",
     "text": [
      "1.13.1\n"
     ]
    }
   ],
   "source": [
    "print(tf.__version__)"
   ]
  },
  {
   "cell_type": "code",
   "execution_count": 10,
   "metadata": {
    "colab": {
     "base_uri": "https://localhost:8080/",
     "height": 55
    },
    "colab_type": "code",
    "id": "n_tkCSjFj9uR",
    "outputId": "6f090376-61ee-47bc-d2ef-01ef38f4fca5"
   },
   "outputs": [
    {
     "name": "stdout",
     "output_type": "stream",
     "text": [
      "WARNING:tensorflow:Error in loading the saved optimizer state. As a result, your model is starting with a freshly initialized optimizer.\n"
     ]
    }
   ],
   "source": [
    "path = \"/content/drive/My Drive/comp5329assignment2/\"\n",
    "model = load_model(path+\"my_model.h5\")"
   ]
  },
  {
   "cell_type": "code",
   "execution_count": 11,
   "metadata": {
    "colab": {
     "base_uri": "https://localhost:8080/",
     "height": 35
    },
    "colab_type": "code",
    "id": "J5UzwcsCkBUO",
    "outputId": "a4416fd8-b846-484f-ed31-55689d14a3fd"
   },
   "outputs": [
    {
     "data": {
      "text/plain": [
       "15516"
      ]
     },
     "execution_count": 11,
     "metadata": {
      "tags": []
     },
     "output_type": "execute_result"
    }
   ],
   "source": [
    "tar = tarfile.open(path+\"test.tar.gz\")\n",
    "\n",
    "names = tar.getnames()\n",
    "for name in names:\n",
    "    tar.extract(name, path = \"/content/test_data/\")\n",
    "tar.close()\n",
    "names = names[1:]\n",
    "test_files_name = []\n",
    "for n in names:\n",
    "    test_files_name.append(n[8:])\n",
    "    \n",
    "# 15516\n",
    "len(test_files_name)"
   ]
  },
  {
   "cell_type": "code",
   "execution_count": 0,
   "metadata": {
    "colab": {
     "base_uri": "https://localhost:8080/",
     "height": 35
    },
    "colab_type": "code",
    "id": "N99KP0AOkEau",
    "outputId": "c4411b6f-c82f-440b-9cc8-8a0cd4333511"
   },
   "outputs": [
    {
     "name": "stdout",
     "output_type": "stream",
     "text": [
      "Found 15516 images.\n"
     ]
    }
   ],
   "source": [
    "image_size = 224\n",
    "test_df = pd.DataFrame(test_files_name,columns = ['test_filenames'])\n",
    "validation_datagen = keras.preprocessing.image.ImageDataGenerator(rescale = 1./255)\n",
    "test_dir = \"/content/test_data/val2014\"\n",
    "test_generator = validation_datagen.flow_from_dataframe(\n",
    "    dataframe = test_df,\n",
    "    directory = test_dir,\n",
    "    x_col = 'test_filenames',\n",
    "    batch_size = 32,\n",
    "    seed = 42,\n",
    "    shuffle = False,\n",
    "    class_mode = None,\n",
    "    target_size = (image_size, image_size)\n",
    "    )\n",
    "test_generator.reset()\n",
    "\n",
    "y_pre_cat = model.predict_generator( test_generator, verbose=1 )\n",
    "y_pred = np.argmax(y_pre_cat, axis=1)\n",
    "\n",
    "assert(y_pred.shape[0] == 15516)\n",
    "\n",
    "test_file = np.array(test_files_name)\n",
    "labels_arr = np.append(test_file.reshape(-1,1),y_pred.reshape(-1,1), axis = 1)\n"
   ]
  },
  {
   "cell_type": "code",
   "execution_count": 0,
   "metadata": {
    "colab": {},
    "colab_type": "code",
    "id": "-eyKmA9lkE16"
   },
   "outputs": [],
   "source": [
    "# pd.DataFrame(labels_arr).to_csv(\"/content/drive/My Drive/comp5329assignment2/Prediected_labels.txt\", header=None, index=None, sep='\\t')\n",
    "labels = pd.DataFrame(labels_arr)"
   ]
  },
  {
   "cell_type": "code",
   "execution_count": 0,
   "metadata": {
    "colab": {},
    "colab_type": "code",
    "id": "pjnrH_q_SKmM"
   },
   "outputs": [],
   "source": [
    "labels[0:10]"
   ]
  }
 ],
 "metadata": {
  "accelerator": "GPU",
  "colab": {
   "collapsed_sections": [],
   "name": "predict.ipynb",
   "provenance": [],
   "version": "0.3.2"
  },
  "kernelspec": {
   "display_name": "Python 3",
   "language": "python",
   "name": "python3"
  },
  "language_info": {
   "codemirror_mode": {
    "name": "ipython",
    "version": 3
   },
   "file_extension": ".py",
   "mimetype": "text/x-python",
   "name": "python",
   "nbconvert_exporter": "python",
   "pygments_lexer": "ipython3",
   "version": "3.6.4"
  }
 },
 "nbformat": 4,
 "nbformat_minor": 1
}
