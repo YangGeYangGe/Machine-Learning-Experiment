{
 "cells": [
  {
   "cell_type": "code",
   "execution_count": 1,
   "metadata": {
    "colab": {},
    "colab_type": "code",
    "id": "A5jh6omK3pvz"
   },
   "outputs": [
    {
     "name": "stderr",
     "output_type": "stream",
     "text": [
      "/Users/geyang/anaconda3/lib/python3.6/site-packages/h5py/__init__.py:36: FutureWarning: Conversion of the second argument of issubdtype from `float` to `np.floating` is deprecated. In future, it will be treated as `np.float64 == np.dtype(float).type`.\n",
      "  from ._conv import register_converters as _register_converters\n"
     ]
    }
   ],
   "source": [
    "import matplotlib.pyplot as plt\n",
    "import tensorflow as tf\n",
    "import numpy as np\n",
    "from tensorflow import keras\n",
    "from tensorflow.keras.applications.resnet50 import ResNet50\n",
    "import tensorflow.keras.backend as K\n",
    "from tensorflow.keras.preprocessing.image import ImageDataGenerator\n",
    "from tensorflow.keras import optimizers\n",
    "from tensorflow.keras.models import Sequential,Model,load_model\n",
    "from tensorflow.keras.layers import Dense, Flatten, Dropout,BatchNormalization\n",
    "import os\n",
    "import pandas as pd\n",
    "import tarfile"
   ]
  },
  {
   "cell_type": "code",
   "execution_count": 2,
   "metadata": {
    "colab": {
     "base_uri": "https://localhost:8080/",
     "height": 55
    },
    "colab_type": "code",
    "id": "gNWHUqqdWeg7",
    "outputId": "6827e8cf-82ed-4474-89bd-588a40d8e225"
   },
   "outputs": [],
   "source": [
    "# from google.colab import drive\n",
    "# drive.mount('/content/drive')"
   ]
  },
  {
   "cell_type": "code",
   "execution_count": 4,
   "metadata": {
    "colab": {},
    "colab_type": "code",
    "id": "UqCLqdSbD97F"
   },
   "outputs": [],
   "source": [
    "tar = tarfile.open(\"../Input/train.tar.gz\")\n",
    "names = tar.getnames()\n",
    "for name in names:\n",
    "    tar.extract(name, path = \"../Input/train_data/\")\n",
    "tar.close()"
   ]
  },
  {
   "cell_type": "code",
   "execution_count": 5,
   "metadata": {
    "colab": {},
    "colab_type": "code",
    "id": "WgARed2lgSOH"
   },
   "outputs": [],
   "source": [
    "label_file = np.loadtxt(\"../Input/train.txt\", dtype=bytes)\n",
    "np.random.shuffle(label_file)"
   ]
  },
  {
   "cell_type": "code",
   "execution_count": 6,
   "metadata": {
    "colab": {},
    "colab_type": "code",
    "id": "5z0SuepDlKAU"
   },
   "outputs": [],
   "source": [
    "label_0 = label_file[:,0].astype(str)\n",
    "label_1 = label_file[:,1].astype(str)\n",
    "\n",
    "new_arr = np.append(label_0.reshape(-1,1),label_1.reshape(-1,1), axis = 1)\n",
    "df = pd.DataFrame(new_arr,columns = ['Filenames', 'labels'])\n",
    "df[\"labels\"] = df[\"labels\"].apply(lambda x: list(map(int, x.split(\",\"))))"
   ]
  },
  {
   "cell_type": "code",
   "execution_count": 9,
   "metadata": {
    "colab": {
     "base_uri": "https://localhost:8080/",
     "height": 54
    },
    "colab_type": "code",
    "id": "Nc7omqvgfGhq",
    "outputId": "1ed61a17-f8ec-45d9-c66a-f74f7dc64e5b"
   },
   "outputs": [
    {
     "ename": "TypeError",
     "evalue": "unhashable type: 'list'",
     "output_type": "error",
     "traceback": [
      "\u001b[0;31m---------------------------------------------------------------------------\u001b[0m",
      "\u001b[0;31mTypeError\u001b[0m                                 Traceback (most recent call last)",
      "\u001b[0;32m<ipython-input-9-91c9ab5b02ce>\u001b[0m in \u001b[0;36m<module>\u001b[0;34m()\u001b[0m\n\u001b[1;32m     28\u001b[0m     \u001b[0mshuffle\u001b[0m \u001b[0;34m=\u001b[0m \u001b[0;32mTrue\u001b[0m\u001b[0;34m,\u001b[0m\u001b[0;34m\u001b[0m\u001b[0m\n\u001b[1;32m     29\u001b[0m     \u001b[0mclass_mode\u001b[0m \u001b[0;34m=\u001b[0m \u001b[0;34m'categorical'\u001b[0m\u001b[0;34m,\u001b[0m\u001b[0;34m\u001b[0m\u001b[0m\n\u001b[0;32m---> 30\u001b[0;31m     \u001b[0mtarget_size\u001b[0m \u001b[0;34m=\u001b[0m \u001b[0;34m(\u001b[0m\u001b[0;36m224\u001b[0m\u001b[0;34m,\u001b[0m \u001b[0;36m224\u001b[0m\u001b[0;34m)\u001b[0m\u001b[0;34m\u001b[0m\u001b[0m\n\u001b[0m\u001b[1;32m     31\u001b[0m     )\n\u001b[1;32m     32\u001b[0m \u001b[0;34m\u001b[0m\u001b[0m\n",
      "\u001b[0;32m~/anaconda3/lib/python3.6/site-packages/keras_preprocessing/image.py\u001b[0m in \u001b[0;36mflow_from_dataframe\u001b[0;34m(self, dataframe, directory, x_col, y_col, has_ext, target_size, color_mode, classes, class_mode, batch_size, shuffle, seed, save_to_dir, save_prefix, save_format, subset, interpolation)\u001b[0m\n\u001b[1;32m   1105\u001b[0m                                  \u001b[0msave_format\u001b[0m\u001b[0;34m=\u001b[0m\u001b[0msave_format\u001b[0m\u001b[0;34m,\u001b[0m\u001b[0;34m\u001b[0m\u001b[0m\n\u001b[1;32m   1106\u001b[0m                                  \u001b[0msubset\u001b[0m\u001b[0;34m=\u001b[0m\u001b[0msubset\u001b[0m\u001b[0;34m,\u001b[0m\u001b[0;34m\u001b[0m\u001b[0m\n\u001b[0;32m-> 1107\u001b[0;31m                                  interpolation=interpolation)\n\u001b[0m\u001b[1;32m   1108\u001b[0m \u001b[0;34m\u001b[0m\u001b[0m\n\u001b[1;32m   1109\u001b[0m     \u001b[0;32mdef\u001b[0m \u001b[0mstandardize\u001b[0m\u001b[0;34m(\u001b[0m\u001b[0mself\u001b[0m\u001b[0;34m,\u001b[0m \u001b[0mx\u001b[0m\u001b[0;34m)\u001b[0m\u001b[0;34m:\u001b[0m\u001b[0;34m\u001b[0m\u001b[0m\n",
      "\u001b[0;32m~/anaconda3/lib/python3.6/site-packages/keras_preprocessing/image.py\u001b[0m in \u001b[0;36m__init__\u001b[0;34m(self, dataframe, directory, image_data_generator, x_col, y_col, has_ext, target_size, color_mode, classes, class_mode, batch_size, shuffle, seed, data_format, save_to_dir, save_prefix, save_format, follow_links, subset, interpolation, dtype)\u001b[0m\n\u001b[1;32m   2076\u001b[0m             \u001b[0mclasses\u001b[0m \u001b[0;34m=\u001b[0m \u001b[0;34m[\u001b[0m\u001b[0;34m]\u001b[0m\u001b[0;34m\u001b[0m\u001b[0m\n\u001b[1;32m   2077\u001b[0m             \u001b[0;32mif\u001b[0m \u001b[0mclass_mode\u001b[0m \u001b[0;32mnot\u001b[0m \u001b[0;32min\u001b[0m \u001b[0;34m[\u001b[0m\u001b[0;34m\"other\"\u001b[0m\u001b[0;34m,\u001b[0m \u001b[0;34m\"input\"\u001b[0m\u001b[0;34m,\u001b[0m \u001b[0;32mNone\u001b[0m\u001b[0;34m]\u001b[0m\u001b[0;34m:\u001b[0m\u001b[0;34m\u001b[0m\u001b[0m\n\u001b[0;32m-> 2078\u001b[0;31m                 \u001b[0mclasses\u001b[0m \u001b[0;34m=\u001b[0m \u001b[0mlist\u001b[0m\u001b[0;34m(\u001b[0m\u001b[0mself\u001b[0m\u001b[0;34m.\u001b[0m\u001b[0mdf\u001b[0m\u001b[0;34m[\u001b[0m\u001b[0my_col\u001b[0m\u001b[0;34m]\u001b[0m\u001b[0;34m.\u001b[0m\u001b[0munique\u001b[0m\u001b[0;34m(\u001b[0m\u001b[0;34m)\u001b[0m\u001b[0;34m)\u001b[0m\u001b[0;34m\u001b[0m\u001b[0m\n\u001b[0m\u001b[1;32m   2079\u001b[0m         \u001b[0;32melse\u001b[0m\u001b[0;34m:\u001b[0m\u001b[0;34m\u001b[0m\u001b[0m\n\u001b[1;32m   2080\u001b[0m             \u001b[0;32mif\u001b[0m \u001b[0mclass_mode\u001b[0m \u001b[0;32min\u001b[0m \u001b[0;34m[\u001b[0m\u001b[0;34m\"other\"\u001b[0m\u001b[0;34m,\u001b[0m \u001b[0;34m\"input\"\u001b[0m\u001b[0;34m,\u001b[0m \u001b[0;32mNone\u001b[0m\u001b[0;34m]\u001b[0m\u001b[0;34m:\u001b[0m\u001b[0;34m\u001b[0m\u001b[0m\n",
      "\u001b[0;32m~/anaconda3/lib/python3.6/site-packages/pandas/core/series.py\u001b[0m in \u001b[0;36munique\u001b[0;34m(self)\u001b[0m\n\u001b[1;32m   1491\u001b[0m         \u001b[0mCategories\u001b[0m \u001b[0;34m(\u001b[0m\u001b[0;36m3\u001b[0m\u001b[0;34m,\u001b[0m \u001b[0mobject\u001b[0m\u001b[0;34m)\u001b[0m\u001b[0;34m:\u001b[0m \u001b[0;34m[\u001b[0m\u001b[0ma\u001b[0m \u001b[0;34m<\u001b[0m \u001b[0mb\u001b[0m \u001b[0;34m<\u001b[0m \u001b[0mc\u001b[0m\u001b[0;34m]\u001b[0m\u001b[0;34m\u001b[0m\u001b[0m\n\u001b[1;32m   1492\u001b[0m         \"\"\"\n\u001b[0;32m-> 1493\u001b[0;31m         \u001b[0mresult\u001b[0m \u001b[0;34m=\u001b[0m \u001b[0msuper\u001b[0m\u001b[0;34m(\u001b[0m\u001b[0mSeries\u001b[0m\u001b[0;34m,\u001b[0m \u001b[0mself\u001b[0m\u001b[0;34m)\u001b[0m\u001b[0;34m.\u001b[0m\u001b[0munique\u001b[0m\u001b[0;34m(\u001b[0m\u001b[0;34m)\u001b[0m\u001b[0;34m\u001b[0m\u001b[0m\n\u001b[0m\u001b[1;32m   1494\u001b[0m \u001b[0;34m\u001b[0m\u001b[0m\n\u001b[1;32m   1495\u001b[0m         \u001b[0;32mif\u001b[0m \u001b[0mis_datetime64tz_dtype\u001b[0m\u001b[0;34m(\u001b[0m\u001b[0mself\u001b[0m\u001b[0;34m.\u001b[0m\u001b[0mdtype\u001b[0m\u001b[0;34m)\u001b[0m\u001b[0;34m:\u001b[0m\u001b[0;34m\u001b[0m\u001b[0m\n",
      "\u001b[0;32m~/anaconda3/lib/python3.6/site-packages/pandas/core/base.py\u001b[0m in \u001b[0;36munique\u001b[0;34m(self)\u001b[0m\n\u001b[1;32m   1047\u001b[0m         \u001b[0;32melse\u001b[0m\u001b[0;34m:\u001b[0m\u001b[0;34m\u001b[0m\u001b[0m\n\u001b[1;32m   1048\u001b[0m             \u001b[0;32mfrom\u001b[0m \u001b[0mpandas\u001b[0m\u001b[0;34m.\u001b[0m\u001b[0mcore\u001b[0m\u001b[0;34m.\u001b[0m\u001b[0malgorithms\u001b[0m \u001b[0;32mimport\u001b[0m \u001b[0munique1d\u001b[0m\u001b[0;34m\u001b[0m\u001b[0m\n\u001b[0;32m-> 1049\u001b[0;31m             \u001b[0mresult\u001b[0m \u001b[0;34m=\u001b[0m \u001b[0munique1d\u001b[0m\u001b[0;34m(\u001b[0m\u001b[0mvalues\u001b[0m\u001b[0;34m)\u001b[0m\u001b[0;34m\u001b[0m\u001b[0m\n\u001b[0m\u001b[1;32m   1050\u001b[0m \u001b[0;34m\u001b[0m\u001b[0m\n\u001b[1;32m   1051\u001b[0m         \u001b[0;32mreturn\u001b[0m \u001b[0mresult\u001b[0m\u001b[0;34m\u001b[0m\u001b[0m\n",
      "\u001b[0;32m~/anaconda3/lib/python3.6/site-packages/pandas/core/algorithms.py\u001b[0m in \u001b[0;36munique\u001b[0;34m(values)\u001b[0m\n\u001b[1;32m    366\u001b[0m \u001b[0;34m\u001b[0m\u001b[0m\n\u001b[1;32m    367\u001b[0m     \u001b[0mtable\u001b[0m \u001b[0;34m=\u001b[0m \u001b[0mhtable\u001b[0m\u001b[0;34m(\u001b[0m\u001b[0mlen\u001b[0m\u001b[0;34m(\u001b[0m\u001b[0mvalues\u001b[0m\u001b[0;34m)\u001b[0m\u001b[0;34m)\u001b[0m\u001b[0;34m\u001b[0m\u001b[0m\n\u001b[0;32m--> 368\u001b[0;31m     \u001b[0muniques\u001b[0m \u001b[0;34m=\u001b[0m \u001b[0mtable\u001b[0m\u001b[0;34m.\u001b[0m\u001b[0munique\u001b[0m\u001b[0;34m(\u001b[0m\u001b[0mvalues\u001b[0m\u001b[0;34m)\u001b[0m\u001b[0;34m\u001b[0m\u001b[0m\n\u001b[0m\u001b[1;32m    369\u001b[0m     \u001b[0muniques\u001b[0m \u001b[0;34m=\u001b[0m \u001b[0m_reconstruct_data\u001b[0m\u001b[0;34m(\u001b[0m\u001b[0muniques\u001b[0m\u001b[0;34m,\u001b[0m \u001b[0mdtype\u001b[0m\u001b[0;34m,\u001b[0m \u001b[0moriginal\u001b[0m\u001b[0;34m)\u001b[0m\u001b[0;34m\u001b[0m\u001b[0m\n\u001b[1;32m    370\u001b[0m \u001b[0;34m\u001b[0m\u001b[0m\n",
      "\u001b[0;32mpandas/_libs/hashtable_class_helper.pxi\u001b[0m in \u001b[0;36mpandas._libs.hashtable.PyObjectHashTable.unique\u001b[0;34m()\u001b[0m\n",
      "\u001b[0;31mTypeError\u001b[0m: unhashable type: 'list'"
     ]
    }
   ],
   "source": [
    "image_size = 224\n",
    "batch_size = 32\n",
    "train_dir = \"../Input/train_data/train2014\"\n",
    "\n",
    "train_datagen = keras.preprocessing.image.ImageDataGenerator(\n",
    "    rescale = 1./255,\n",
    "    zca_epsilon=1e-06,  \n",
    "    rotation_range=15,  \n",
    "    width_shift_range=0.1,\n",
    "    height_shift_range=0.1,\n",
    "    shear_range=0.,  \n",
    "    zoom_range=0.05, \n",
    "    fill_mode='nearest',\n",
    "    cval=0., \n",
    "    horizontal_flip=True,  \n",
    "    vertical_flip=False\n",
    "    )\n",
    "\n",
    "validation_datagen = keras.preprocessing.image.ImageDataGenerator(rescale = 1./255)\n",
    "\n",
    "train_generator = train_datagen.flow_from_dataframe(\n",
    "    dataframe = df[0:25540],\n",
    "    directory = train_dir,\n",
    "    x_col = 'Filenames',\n",
    "    y_col = 'labels',\n",
    "    batch_size = batch_size,\n",
    "    seed = 42,\n",
    "    shuffle = True,\n",
    "    class_mode = 'categorical',\n",
    "    target_size = (image_size, image_size)\n",
    "    )\n",
    "\n",
    "\n",
    "val_generator = validation_datagen.flow_from_dataframe(\n",
    "    dataframe = df[25540:],\n",
    "    directory = train_dir,\n",
    "    x_col = 'Filenames',\n",
    "    y_col = 'labels',\n",
    "    batch_size = batch_size,\n",
    "    seed = 42,\n",
    "    class_mode = 'categorical',\n",
    "    target_size = (image_size, image_size)\n",
    "    )"
   ]
  },
  {
   "cell_type": "code",
   "execution_count": 0,
   "metadata": {
    "colab": {},
    "colab_type": "code",
    "id": "8wcKZ2KGjBPI"
   },
   "outputs": [],
   "source": [
    "# base_model = keras.applications.vgg16.VGG16(weights='imagenet',include_top=False, input_shape=(224,224,3))\n",
    "# base_model = keras.applications.resnet50.ResNet50(weights='imagenet',include_top=False, input_shape=(224,224,3))\n",
    "# base_model = keras.applications.xception.Xception(weights='imagenet',include_top=False, input_shape=(224,224,3))\n",
    "# base_model = keras.applications.densenet.DenseNet121(weights='imagenet',include_top=False, input_shape=(224,224,3))\n",
    "# base_model = keras.applications.densenet.DenseNet169(weights='imagenet',include_top=False, input_shape=(224,224,3))\n",
    "base_model = keras.applications.densenet.DenseNet201(weights='imagenet',include_top=False, input_shape=(224,224,3))\n",
    "\n",
    "base_model.trainable = False\n",
    "# base_model.trainable = True\n"
   ]
  },
  {
   "cell_type": "code",
   "execution_count": 0,
   "metadata": {
    "colab": {},
    "colab_type": "code",
    "id": "ICssO_xxj_bO"
   },
   "outputs": [],
   "source": [
    "model = tf.keras.Sequential([\n",
    "    base_model,\n",
    "    keras.layers.GlobalAveragePooling2D(),\n",
    "    keras.layers.Flatten(),\n",
    "    \n",
    "    keras.layers.Dense(512),\n",
    "    keras.layers.BatchNormalization(),\n",
    "    keras.layers.ReLU(),\n",
    "    keras.layers.Dropout(0.5),\n",
    "    \n",
    "    keras.layers.Dense(512),\n",
    "    keras.layers.BatchNormalization(),\n",
    "    keras.layers.ReLU(),\n",
    "    keras.layers.Dropout(0.5),\n",
    "\n",
    "    keras.layers.Dense(20, activation='sigmoid')\n",
    "])\n"
   ]
  },
  {
   "cell_type": "code",
   "execution_count": 14,
   "metadata": {
    "colab": {
     "base_uri": "https://localhost:8080/",
     "height": 581
    },
    "colab_type": "code",
    "id": "F-kmVB73kN0m",
    "outputId": "e1983dde-6163-46d4-d0d4-138f46e6d1d8"
   },
   "outputs": [
    {
     "name": "stdout",
     "output_type": "stream",
     "text": [
      "_________________________________________________________________\n",
      "Layer (type)                 Output Shape              Param #   \n",
      "=================================================================\n",
      "densenet201 (Model)          (None, 7, 7, 1920)        18321984  \n",
      "_________________________________________________________________\n",
      "global_average_pooling2d_1 ( (None, 1920)              0         \n",
      "_________________________________________________________________\n",
      "flatten_1 (Flatten)          (None, 1920)              0         \n",
      "_________________________________________________________________\n",
      "dense_3 (Dense)              (None, 512)               983552    \n",
      "_________________________________________________________________\n",
      "batch_normalization_v1_2 (Ba (None, 512)               2048      \n",
      "_________________________________________________________________\n",
      "re_lu_2 (ReLU)               (None, 512)               0         \n",
      "_________________________________________________________________\n",
      "dropout_2 (Dropout)          (None, 512)               0         \n",
      "_________________________________________________________________\n",
      "dense_4 (Dense)              (None, 512)               262656    \n",
      "_________________________________________________________________\n",
      "batch_normalization_v1_3 (Ba (None, 512)               2048      \n",
      "_________________________________________________________________\n",
      "re_lu_3 (ReLU)               (None, 512)               0         \n",
      "_________________________________________________________________\n",
      "dropout_3 (Dropout)          (None, 512)               0         \n",
      "_________________________________________________________________\n",
      "dense_5 (Dense)              (None, 20)                10260     \n",
      "=================================================================\n",
      "Total params: 19,582,548\n",
      "Trainable params: 1,258,516\n",
      "Non-trainable params: 18,324,032\n",
      "_________________________________________________________________\n"
     ]
    }
   ],
   "source": [
    "model.summary()"
   ]
  },
  {
   "cell_type": "code",
   "execution_count": 15,
   "metadata": {
    "colab": {
     "base_uri": "https://localhost:8080/",
     "height": 1128
    },
    "colab_type": "code",
    "id": "Lapu3NCCfip6",
    "outputId": "e39699d7-ac33-43d2-b2d1-5b155b35ad3a"
   },
   "outputs": [
    {
     "name": "stdout",
     "output_type": "stream",
     "text": [
      "Epoch 1/20\n",
      "200/200 [==============================] - 50s 251ms/step - loss: 0.1157 - metric: 0.6965\n",
      "799/799 [==============================] - 459s 574ms/step - loss: 0.1523 - metric: 0.4405 - val_loss: 0.1157 - val_metric: 0.6965\n",
      "Epoch 2/20\n",
      "200/200 [==============================] - 46s 229ms/step - loss: 0.1104 - metric: 0.6758\n",
      "799/799 [==============================] - 439s 550ms/step - loss: 0.1248 - metric: 0.5353 - val_loss: 0.1104 - val_metric: 0.6758\n",
      "Epoch 3/20\n",
      "200/200 [==============================] - 46s 230ms/step - loss: 0.1085 - metric: 0.7002\n",
      "799/799 [==============================] - 429s 537ms/step - loss: 0.1190 - metric: 0.5585 - val_loss: 0.1085 - val_metric: 0.7002\n",
      "Epoch 4/20\n",
      "200/200 [==============================] - 45s 226ms/step - loss: 0.1073 - metric: 0.7038\n",
      "799/799 [==============================] - 430s 538ms/step - loss: 0.1160 - metric: 0.5755 - val_loss: 0.1073 - val_metric: 0.7038\n",
      "Epoch 5/20\n",
      "200/200 [==============================] - 46s 232ms/step - loss: 0.1079 - metric: 0.7159\n",
      "799/799 [==============================] - 429s 536ms/step - loss: 0.1148 - metric: 0.5836 - val_loss: 0.1079 - val_metric: 0.7159\n",
      "Epoch 6/20\n",
      "200/200 [==============================] - 46s 229ms/step - loss: 0.1058 - metric: 0.7164\n",
      "799/799 [==============================] - 429s 536ms/step - loss: 0.1134 - metric: 0.5922 - val_loss: 0.1058 - val_metric: 0.7164\n",
      "Epoch 7/20\n",
      "200/200 [==============================] - 45s 227ms/step - loss: 0.1048 - metric: 0.7035\n",
      "799/799 [==============================] - 428s 536ms/step - loss: 0.1107 - metric: 0.6044 - val_loss: 0.1048 - val_metric: 0.7035\n",
      "Epoch 8/20\n",
      "200/200 [==============================] - 46s 229ms/step - loss: 0.1045 - metric: 0.7057\n",
      "799/799 [==============================] - 431s 539ms/step - loss: 0.1098 - metric: 0.6120 - val_loss: 0.1045 - val_metric: 0.7057\n",
      "Epoch 9/20\n",
      "200/200 [==============================] - 46s 230ms/step - loss: 0.1050 - metric: 0.7073\n",
      "799/799 [==============================] - 428s 535ms/step - loss: 0.1092 - metric: 0.6157 - val_loss: 0.1050 - val_metric: 0.7073\n",
      "Epoch 10/20\n",
      "200/200 [==============================] - 45s 227ms/step - loss: 0.1037 - metric: 0.7269\n",
      "799/799 [==============================] - 428s 536ms/step - loss: 0.1075 - metric: 0.6249 - val_loss: 0.1037 - val_metric: 0.7269\n",
      "Epoch 11/20\n",
      "200/200 [==============================] - 46s 229ms/step - loss: 0.1038 - metric: 0.7137\n",
      "799/799 [==============================] - 429s 537ms/step - loss: 0.1064 - metric: 0.6300 - val_loss: 0.1038 - val_metric: 0.7137\n",
      "Epoch 12/20\n",
      "200/200 [==============================] - 46s 231ms/step - loss: 0.1036 - metric: 0.7164\n",
      "799/799 [==============================] - 426s 533ms/step - loss: 0.1055 - metric: 0.6341 - val_loss: 0.1036 - val_metric: 0.7164\n",
      "Epoch 13/20\n",
      "200/200 [==============================] - 46s 232ms/step - loss: 0.1028 - metric: 0.6993\n",
      "799/799 [==============================] - 430s 538ms/step - loss: 0.1044 - metric: 0.6367 - val_loss: 0.1028 - val_metric: 0.6993\n",
      "Epoch 14/20\n",
      "200/200 [==============================] - 46s 229ms/step - loss: 0.1031 - metric: 0.7228\n",
      "799/799 [==============================] - 427s 534ms/step - loss: 0.1044 - metric: 0.6398 - val_loss: 0.1031 - val_metric: 0.7228\n",
      "Epoch 15/20\n",
      "200/200 [==============================] - 46s 229ms/step - loss: 0.1033 - metric: 0.7164\n",
      "799/799 [==============================] - 425s 532ms/step - loss: 0.1032 - metric: 0.6465 - val_loss: 0.1033 - val_metric: 0.7164\n",
      "Epoch 16/20\n",
      "200/200 [==============================] - 46s 228ms/step - loss: 0.1033 - metric: 0.7245\n",
      "799/799 [==============================] - 429s 538ms/step - loss: 0.1023 - metric: 0.6490 - val_loss: 0.1033 - val_metric: 0.7245\n",
      "Epoch 17/20\n",
      "200/200 [==============================] - 46s 228ms/step - loss: 0.1028 - metric: 0.7120\n",
      "799/799 [==============================] - 429s 537ms/step - loss: 0.1017 - metric: 0.6549 - val_loss: 0.1028 - val_metric: 0.7120\n",
      "Epoch 18/20\n",
      "200/200 [==============================] - 46s 232ms/step - loss: 0.1031 - metric: 0.7198\n",
      "799/799 [==============================] - 426s 533ms/step - loss: 0.1022 - metric: 0.6503 - val_loss: 0.1031 - val_metric: 0.7198\n",
      "Epoch 19/20\n",
      "200/200 [==============================] - 45s 227ms/step - loss: 0.1028 - metric: 0.7161\n",
      "799/799 [==============================] - 429s 537ms/step - loss: 0.0999 - metric: 0.6603 - val_loss: 0.1028 - val_metric: 0.7161\n",
      "Epoch 20/20\n",
      "200/200 [==============================] - 46s 230ms/step - loss: 0.1022 - metric: 0.7306\n",
      "799/799 [==============================] - 429s 537ms/step - loss: 0.0999 - metric: 0.6610 - val_loss: 0.1022 - val_metric: 0.7306\n"
     ]
    }
   ],
   "source": [
    "def metric(y_true,y_pred):\n",
    "\n",
    "    return tf.math.reduce_max(\n",
    "            tf.multiply(y_true, K.round(y_pred)),\n",
    "            axis=1,\n",
    "            keepdims=None,\n",
    "            name=None,\n",
    "            reduction_indices=None,\n",
    "            keep_dims=None\n",
    "            )\n",
    "# https://github.com/mkocabas/focal-loss-keras/blob/master/focal_loss.py\n",
    "def focal_loss(gamma=2., alpha=.25):\n",
    "    def focal_loss_fixed(y_true, y_pred):\n",
    "        pt_1 = tf.where(tf.equal(y_true, 1), y_pred, tf.ones_like(y_pred))\n",
    "        pt_0 = tf.where(tf.equal(y_true, 0), y_pred, tf.zeros_like(y_pred))\n",
    "        return -K.sum(alpha * K.pow(1. - pt_1, gamma) * K.log(pt_1))-K.sum((1-alpha) * K.pow( pt_0, gamma) * K.log(1. - pt_0))\n",
    "    return focal_loss_fixed\n",
    "\n",
    "\n",
    "model.compile(optimizer = 'adam',loss=\"binary_crossentropy\",metrics=[metric] )\n",
    "# model.compile(optimizer = 'adam',loss=focal_loss(),metrics=[metric] )\n",
    "\n",
    "steps_per_epoch = train_generator.n // batch_size\n",
    "validation_steps = val_generator.n // batch_size\n",
    "\n",
    "history = model.fit_generator(train_generator, epochs = 20,steps_per_epoch = steps_per_epoch,validation_data = val_generator, validation_steps= validation_steps)\n",
    "\n"
   ]
  },
  {
   "cell_type": "code",
   "execution_count": 19,
   "metadata": {
    "colab": {
     "base_uri": "https://localhost:8080/",
     "height": 35
    },
    "colab_type": "code",
    "id": "NxMZyZVviEJS",
    "outputId": "70079099-41fb-4e8e-85c4-1988107ce50b"
   },
   "outputs": [
    {
     "name": "stdout",
     "output_type": "stream",
     "text": [
      "Found 6385 images belonging to 20 classes.\n"
     ]
    }
   ],
   "source": [
    "test_generator = validation_datagen.flow_from_dataframe(\n",
    "    dataframe = df[25540:],\n",
    "    directory = train_dir,\n",
    "    x_col = 'Filenames',\n",
    "    has_ext = True,\n",
    "    y_col = 'labels',\n",
    "#     subset = \"validation\",\n",
    "    batch_size = 32,\n",
    "    seed = 42,\n",
    "    shuffle = False,\n",
    "    class_mode = 'categorical',\n",
    "    target_size = (image_size, image_size)\n",
    "    )\n",
    "test_generator.reset()\n"
   ]
  },
  {
   "cell_type": "code",
   "execution_count": 20,
   "metadata": {
    "colab": {
     "base_uri": "https://localhost:8080/",
     "height": 35
    },
    "colab_type": "code",
    "id": "rM7GrwXx1iPb",
    "outputId": "a9b7aec9-7c56-44f0-8c15-924a85ca1b55"
   },
   "outputs": [
    {
     "name": "stdout",
     "output_type": "stream",
     "text": [
      "0.7417384494909945\n"
     ]
    }
   ],
   "source": [
    "y_pre_cat = model.predict_generator( test_generator )\n",
    "\n",
    "y_pred = np.argmax(y_pre_cat, axis=1)\n",
    "y_true = df[25540:][\"labels\"].values\n",
    "\n",
    "\n",
    "assert(y_true.shape[0] == y_pred.shape[0])\n",
    "count = 0\n",
    "for i in range(y_pred.shape[0]):\n",
    "    if y_pred[i] in y_true[i]:\n",
    "        count += 1\n",
    "print(count/y_pred.shape[0])\n",
    "\n",
    "# import pandas as pd\n",
    "# res = np.append(label_0.reshape(-1,1),label_2.reshape(-1,1), axis = 1)\n",
    "# pd.DataFrame(res).to_csv(\"test.txt\", header=None, index=None, sep=' ')"
   ]
  },
  {
   "cell_type": "code",
   "execution_count": 21,
   "metadata": {
    "colab": {
     "base_uri": "https://localhost:8080/",
     "height": 295
    },
    "colab_type": "code",
    "id": "Bzd1TRwOA0xV",
    "outputId": "a4267334-2372-4a4d-fdd1-fbdbdd0a3798"
   },
   "outputs": [
    {
     "data": {
      "image/png": "[encoded data removed]",
      "text/plain": [
       "<Figure size 432x288 with 1 Axes>"
      ]
     },
     "metadata": {
      "tags": []
     },
     "output_type": "display_data"
    }
   ],
   "source": [
    "plt.plot(history.history['loss'])\n",
    "plt.plot(history.history['val_loss'])\n",
    "plt.title('Model loss')\n",
    "plt.ylabel('Loss')\n",
    "plt.xlabel('Epoch')\n",
    "plt.legend(['Train', 'Test'], loc='upper left')\n",
    "plt.show()"
   ]
  },
  {
   "cell_type": "markdown",
   "metadata": {
    "colab_type": "text",
    "id": "1v20CxrSOHn1"
   },
   "source": [
    "# Use all data, re-train model"
   ]
  },
  {
   "cell_type": "code",
   "execution_count": 22,
   "metadata": {
    "colab": {
     "base_uri": "https://localhost:8080/",
     "height": 35
    },
    "colab_type": "code",
    "id": "6Z-IaAI6GVFn",
    "outputId": "90a3d192-40e8-4571-ad69-acb46b2e092b"
   },
   "outputs": [
    {
     "name": "stdout",
     "output_type": "stream",
     "text": [
      "Found 31925 images belonging to 20 classes.\n"
     ]
    }
   ],
   "source": [
    "train_datagen = keras.preprocessing.image.ImageDataGenerator(\n",
    "    rescale = 1./255,\n",
    "    zca_epsilon=1e-06,  \n",
    "    rotation_range=15,  \n",
    "    width_shift_range=0.1,\n",
    "    height_shift_range=0.1,\n",
    "    shear_range=0.,  \n",
    "    zoom_range=0.05, \n",
    "    fill_mode='nearest',\n",
    "    cval=0., \n",
    "    horizontal_flip=True,  \n",
    "    vertical_flip=False\n",
    "    )\n",
    "\n",
    "\n",
    "train_generator = train_datagen.flow_from_dataframe(\n",
    "    dataframe = df,\n",
    "    directory = train_dir,\n",
    "    x_col = 'Filenames',\n",
    "    y_col = 'labels',\n",
    "    batch_size = batch_size,\n",
    "    seed = 42,\n",
    "    shuffle = True,\n",
    "    class_mode = 'categorical',\n",
    "    target_size = (image_size, image_size)\n",
    "    )"
   ]
  },
  {
   "cell_type": "code",
   "execution_count": 24,
   "metadata": {
    "colab": {
     "base_uri": "https://localhost:8080/",
     "height": 745
    },
    "colab_type": "code",
    "id": "jXzhlZRYnU2l",
    "outputId": "c4ed7a93-eeaf-4625-a550-8031ff6e56a0"
   },
   "outputs": [
    {
     "name": "stdout",
     "output_type": "stream",
     "text": [
      "Epoch 1/20\n",
      "998/998 [==============================] - 544s 545ms/step - loss: 0.1492\n",
      "Epoch 2/20\n",
      "998/998 [==============================] - 497s 498ms/step - loss: 0.1231\n",
      "Epoch 3/20\n",
      "998/998 [==============================] - 502s 503ms/step - loss: 0.1187\n",
      "Epoch 4/20\n",
      "998/998 [==============================] - 498s 499ms/step - loss: 0.1159\n",
      "Epoch 5/20\n",
      "998/998 [==============================] - 502s 503ms/step - loss: 0.1141\n",
      "Epoch 6/20\n",
      "998/998 [==============================] - 503s 504ms/step - loss: 0.1130\n",
      "Epoch 7/20\n",
      "998/998 [==============================] - 497s 498ms/step - loss: 0.1112\n",
      "Epoch 8/20\n",
      "998/998 [==============================] - 499s 500ms/step - loss: 0.1106\n",
      "Epoch 9/20\n",
      "998/998 [==============================] - 484s 485ms/step - loss: 0.1082\n",
      "Epoch 10/20\n",
      "998/998 [==============================] - 484s 485ms/step - loss: 0.1075\n",
      "Epoch 11/20\n",
      "998/998 [==============================] - 485s 486ms/step - loss: 0.1073\n",
      "Epoch 12/20\n",
      "998/998 [==============================] - 485s 486ms/step - loss: 0.1061\n",
      "Epoch 13/20\n",
      "998/998 [==============================] - 482s 483ms/step - loss: 0.1055\n",
      "Epoch 14/20\n",
      "998/998 [==============================] - 484s 485ms/step - loss: 0.1041\n",
      "Epoch 15/20\n",
      "998/998 [==============================] - 482s 483ms/step - loss: 0.1038\n",
      "Epoch 16/20\n",
      "998/998 [==============================] - 483s 483ms/step - loss: 0.1028\n",
      "Epoch 17/20\n",
      "998/998 [==============================] - 484s 485ms/step - loss: 0.1022\n",
      "Epoch 18/20\n",
      "998/998 [==============================] - 482s 483ms/step - loss: 0.1018\n",
      "Epoch 19/20\n",
      "998/998 [==============================] - 483s 484ms/step - loss: 0.1012\n",
      "Epoch 20/20\n",
      "998/998 [==============================] - 484s 485ms/step - loss: 0.1005\n"
     ]
    }
   ],
   "source": [
    "base_model = keras.applications.densenet.DenseNet201(weights='imagenet',include_top=False, input_shape=(224,224,3))\n",
    "\n",
    "base_model.trainable = False\n",
    "\n",
    "model = tf.keras.Sequential([\n",
    "    base_model,\n",
    "    keras.layers.GlobalAveragePooling2D(),\n",
    "    keras.layers.Flatten(),\n",
    "    \n",
    "    keras.layers.Dense(512),\n",
    "    keras.layers.BatchNormalization(),\n",
    "    keras.layers.ReLU(),\n",
    "    keras.layers.Dropout(0.5),\n",
    "    \n",
    "    keras.layers.Dense(512),\n",
    "    keras.layers.BatchNormalization(),\n",
    "    keras.layers.ReLU(),\n",
    "    keras.layers.Dropout(0.5),\n",
    "\n",
    "    keras.layers.Dense(20, activation='sigmoid')\n",
    "])\n",
    "\n",
    "model.compile(optimizer = 'adam',loss=\"binary_crossentropy\")\n",
    "steps_per_epoch = train_generator.n // batch_size\n",
    "\n",
    "history = model.fit_generator(train_generator, epochs = 20,steps_per_epoch = steps_per_epoch)"
   ]
  },
  {
   "cell_type": "code",
   "execution_count": 0,
   "metadata": {
    "colab": {},
    "colab_type": "code",
    "id": "BcJrp8KoJFgm"
   },
   "outputs": [],
   "source": [
    "model.save(\"/content/drive/My Drive/comp5329ass2/results/my_model.h5\")\n",
    "# model = load_model('my_model.h5')"
   ]
  },
  {
   "cell_type": "code",
   "execution_count": 0,
   "metadata": {
    "colab": {},
    "colab_type": "code",
    "id": "Qc_2QQ-qGo8z"
   },
   "outputs": [],
   "source": [
    "tar = tarfile.open(\"/content/drive/My Drive/comp5329ass2/test.tar.gz\")\n",
    "names = tar.getnames()\n",
    "for name in names:\n",
    "    tar.extract(name, path = \"/content/test_data/\")\n",
    "tar.close()\n",
    "names = names[1:]"
   ]
  },
  {
   "cell_type": "code",
   "execution_count": 28,
   "metadata": {
    "colab": {
     "base_uri": "https://localhost:8080/",
     "height": 35
    },
    "colab_type": "code",
    "id": "gIunmi_5G5pw",
    "outputId": "c027c11a-4715-44b8-b55a-6ec3d5f4fdc2"
   },
   "outputs": [
    {
     "data": {
      "text/plain": [
       "15516"
      ]
     },
     "execution_count": 28,
     "metadata": {
      "tags": []
     },
     "output_type": "execute_result"
    }
   ],
   "source": [
    "test_files_name = []\n",
    "for n in names:\n",
    "    test_files_name.append(n[8:])\n",
    "    \n",
    "# 15516\n",
    "len(test_files_name)"
   ]
  },
  {
   "cell_type": "code",
   "execution_count": 0,
   "metadata": {
    "colab": {},
    "colab_type": "code",
    "id": "sZKKRDtVTWmN"
   },
   "outputs": [],
   "source": [
    "assert(len(test_files_name) == 15516)"
   ]
  },
  {
   "cell_type": "code",
   "execution_count": 0,
   "metadata": {
    "colab": {},
    "colab_type": "code",
    "id": "9TVtYN22HwRo"
   },
   "outputs": [],
   "source": [
    "test_df = pd.DataFrame(test_files_name,columns = ['test_filenames'])"
   ]
  },
  {
   "cell_type": "code",
   "execution_count": 31,
   "metadata": {
    "colab": {
     "base_uri": "https://localhost:8080/",
     "height": 35
    },
    "colab_type": "code",
    "id": "ieDkcMzXIiE2",
    "outputId": "892a81eb-4b8c-42e9-c9e4-0325237a678c"
   },
   "outputs": [
    {
     "name": "stdout",
     "output_type": "stream",
     "text": [
      "Found 15516 images.\n"
     ]
    }
   ],
   "source": [
    "validation_datagen = keras.preprocessing.image.ImageDataGenerator(rescale = 1./255)\n",
    "test_dir = \"/content/test_data/val2014\"\n",
    "test_generator = validation_datagen.flow_from_dataframe(\n",
    "    dataframe = test_df,\n",
    "    directory = test_dir,\n",
    "    x_col = 'test_filenames',\n",
    "    batch_size = 32,\n",
    "    seed = 42,\n",
    "    shuffle = False,\n",
    "    class_mode = None,\n",
    "    target_size = (image_size, image_size)\n",
    "    )\n",
    "test_generator.reset()\n"
   ]
  },
  {
   "cell_type": "code",
   "execution_count": 0,
   "metadata": {
    "colab": {},
    "colab_type": "code",
    "id": "Y3n4Iw3hJGF_"
   },
   "outputs": [],
   "source": [
    "y_pre_cat = model.predict_generator( test_generator )\n",
    "\n",
    "y_pred = np.argmax(y_pre_cat, axis=1)\n",
    "\n",
    "# model.predict_generator( test_generator )"
   ]
  },
  {
   "cell_type": "markdown",
   "metadata": {
    "colab_type": "text",
    "id": "X-AjK3f5XtJ2"
   },
   "source": [
    "# Save predicted label"
   ]
  },
  {
   "cell_type": "code",
   "execution_count": 0,
   "metadata": {
    "colab": {},
    "colab_type": "code",
    "id": "bWg-peReWAVV"
   },
   "outputs": [],
   "source": [
    "assert(y_pred.shape[0] == 15516)\n",
    "\n",
    "test_file = np.array(test_files_name)\n",
    "res = np.append(test_file.reshape(-1,1),y_pred.reshape(-1,1), axis = 1)\n",
    "pd.DataFrame(res).to_csv(\"/content/drive/My Drive/comp5329ass2/results/test.txt\", header=None, index=None, sep=' ')"
   ]
  },
  {
   "cell_type": "markdown",
   "metadata": {
    "colab_type": "text",
    "id": "FFphicU3XokT"
   },
   "source": [
    "# To load predicted test data"
   ]
  },
  {
   "cell_type": "code",
   "execution_count": 0,
   "metadata": {
    "colab": {},
    "colab_type": "code",
    "id": "Wo3wOM9eXUhb"
   },
   "outputs": [],
   "source": [
    "predicted_test_data = pd.read_csv('/content/drive/My Drive/comp5329ass2/results/test.txt', sep=\" \", header=None)"
   ]
  }
 ],
 "metadata": {
  "accelerator": "GPU",
  "colab": {
   "collapsed_sections": [],
   "name": "to_submit.ipynb",
   "provenance": [],
   "version": "0.3.2"
  },
  "kernelspec": {
   "display_name": "Python 3",
   "language": "python",
   "name": "python3"
  },
  "language_info": {
   "codemirror_mode": {
    "name": "ipython",
    "version": 3
   },
   "file_extension": ".py",
   "mimetype": "text/x-python",
   "name": "python",
   "nbconvert_exporter": "python",
   "pygments_lexer": "ipython3",
   "version": "3.6.4"
  }
 },
 "nbformat": 4,
 "nbformat_minor": 1
}
