{
 "cells": [
  {
   "cell_type": "code",
   "execution_count": 2,
   "metadata": {
    "colab": {
     "base_uri": "https://localhost:8080/",
     "height": 128
    },
    "colab_type": "code",
    "executionInfo": {
     "elapsed": 36094,
     "status": "ok",
     "timestamp": 1559258008250,
     "user": {
      "displayName": "Yang Ge",
      "photoUrl": "",
      "userId": "06992320503953004132"
     },
     "user_tz": -600
    },
    "id": "4vu4kdyCj31f",
    "outputId": "847499c0-d923-4344-d221-c5aa0e4c38a9"
   },
   "outputs": [],
   "source": [
    "\n",
    "import numpy as np\n",
    "import pandas as pd\n",
    "import tensorflow as tf\n",
    "from tensorflow.keras.models import load_model\n",
    "from tensorflow import keras\n",
    "import tarfile\n",
    "\n",
    "\n",
    "# from google.colab import drive\n",
    "# drive.mount('/content/gdrive')\n"
   ]
  },
  {
   "cell_type": "code",
   "execution_count": 3,
   "metadata": {},
   "outputs": [
    {
     "name": "stdout",
     "output_type": "stream",
     "text": [
      "1.13.1\n"
     ]
    }
   ],
   "source": [
    "print(tf.__version__)"
   ]
  },
  {
   "cell_type": "code",
   "execution_count": 4,
   "metadata": {
    "colab": {
     "base_uri": "https://localhost:8080/",
     "height": 219
    },
    "colab_type": "code",
    "executionInfo": {
     "elapsed": 63389,
     "status": "ok",
     "timestamp": 1559233762818,
     "user": {
      "displayName": "Yang Ge",
      "photoUrl": "",
      "userId": "06992320503953004132"
     },
     "user_tz": -600
    },
    "id": "n_tkCSjFj9uR",
    "outputId": "37787405-70fa-4e74-8acb-caad368e6a39"
   },
   "outputs": [
    {
     "name": "stdout",
     "output_type": "stream",
     "text": [
      "WARNING:tensorflow:From /Users/geyang/anaconda3/lib/python3.6/site-packages/tensorflow/python/ops/resource_variable_ops.py:435: colocate_with (from tensorflow.python.framework.ops) is deprecated and will be removed in a future version.\n",
      "Instructions for updating:\n",
      "Colocations handled automatically by placer.\n",
      "WARNING:tensorflow:From /Users/geyang/anaconda3/lib/python3.6/site-packages/tensorflow/python/keras/layers/core.py:143: calling dropout (from tensorflow.python.ops.nn_ops) with keep_prob is deprecated and will be removed in a future version.\n",
      "Instructions for updating:\n",
      "Please use `rate` instead of `keep_prob`. Rate should be set to `rate = 1 - keep_prob`.\n",
      "WARNING:tensorflow:From /Users/geyang/anaconda3/lib/python3.6/site-packages/tensorflow/python/ops/math_ops.py:3066: to_int32 (from tensorflow.python.ops.math_ops) is deprecated and will be removed in a future version.\n",
      "Instructions for updating:\n",
      "Use tf.cast instead.\n",
      "WARNING:tensorflow:Error in loading the saved optimizer state. As a result, your model is starting with a freshly initialized optimizer.\n"
     ]
    }
   ],
   "source": [
    "model = load_model(\"../Algorithm/my_model.h5\")"
   ]
  },
  {
   "cell_type": "code",
   "execution_count": 6,
   "metadata": {
    "colab": {
     "base_uri": "https://localhost:8080/",
     "height": 35
    },
    "colab_type": "code",
    "executionInfo": {
     "elapsed": 27167,
     "status": "ok",
     "timestamp": 1559233796512,
     "user": {
      "displayName": "Yang Ge",
      "photoUrl": "",
      "userId": "06992320503953004132"
     },
     "user_tz": -600
    },
    "id": "J5UzwcsCkBUO",
    "outputId": "4a3115ef-4723-44ef-8323-e3959fe023d2"
   },
   "outputs": [
    {
     "data": {
      "text/plain": [
       "15516"
      ]
     },
     "execution_count": 6,
     "metadata": {},
     "output_type": "execute_result"
    }
   ],
   "source": [
    "\n",
    "tar = tarfile.open(\"../Input/test.tar.gz\")\n",
    "names = tar.getnames()\n",
    "for name in names:\n",
    "    tar.extract(name, path = \"../Input/test_data/\")\n",
    "tar.close()\n",
    "names = names[1:]\n",
    "test_files_name = []\n",
    "for n in names:\n",
    "    test_files_name.append(n[8:])\n",
    "    \n",
    "# 15516\n",
    "len(test_files_name)"
   ]
  },
  {
   "cell_type": "code",
   "execution_count": null,
   "metadata": {
    "colab": {
     "base_uri": "https://localhost:8080/",
     "height": 54
    },
    "colab_type": "code",
    "executionInfo": {
     "elapsed": 131641,
     "status": "ok",
     "timestamp": 1559233932900,
     "user": {
      "displayName": "Yang Ge",
      "photoUrl": "",
      "userId": "06992320503953004132"
     },
     "user_tz": -600
    },
    "id": "N99KP0AOkEau",
    "outputId": "89cde9c9-9b9d-441c-dc8a-a51bfac0fb52"
   },
   "outputs": [],
   "source": [
    "image_size = 224\n",
    "test_df = pd.DataFrame(test_files_name,columns = ['test_filenames'])\n",
    "validation_datagen = keras.preprocessing.image.ImageDataGenerator(rescale = 1./255)\n",
    "# test_dir = \"/content/test_data/val2014\"\n",
    "test_dir = \"../Input/test_data/val2014\"\n",
    "test_generator = validation_datagen.flow_from_dataframe(\n",
    "    dataframe = test_df,\n",
    "    directory = test_dir,\n",
    "    x_col = 'test_filenames',\n",
    "    batch_size = 32,\n",
    "    seed = 42,\n",
    "    shuffle = False,\n",
    "    class_mode = None,\n",
    "    target_size = (image_size, image_size)\n",
    "    )\n",
    "test_generator.reset()\n",
    "\n",
    "y_pre_cat = model.predict_generator( test_generator, verbose=1 )\n",
    "y_pred = np.argmax(y_pre_cat, axis=1)\n",
    "\n",
    "assert(y_pred.shape[0] == 15516)\n",
    "\n",
    "test_file = np.array(test_files_name)\n",
    "labels_arr = np.append(test_file.reshape(-1,1),y_pred.reshape(-1,1), axis = 1)\n"
   ]
  },
  {
   "cell_type": "code",
   "execution_count": 0,
   "metadata": {
    "colab": {},
    "colab_type": "code",
    "id": "-eyKmA9lkE16"
   },
   "outputs": [],
   "source": [
    "# pd.DataFrame(res).to_csv(\"/content/drive/My Drive/comp5329ass2/results/Prediected_labels.txt\", header=None, index=None, sep='\\t')\n",
    "labels = pd.DataFrame(res)"
   ]
  }
 ],
 "metadata": {
  "accelerator": "GPU",
  "colab": {
   "collapsed_sections": [],
   "name": "to_predict.ipynb",
   "provenance": [],
   "version": "0.3.2"
  },
  "kernelspec": {
   "display_name": "Python 3",
   "language": "python",
   "name": "python3"
  },
  "language_info": {
   "codemirror_mode": {
    "name": "ipython",
    "version": 3
   },
   "file_extension": ".py",
   "mimetype": "text/x-python",
   "name": "python",
   "nbconvert_exporter": "python",
   "pygments_lexer": "ipython3",
   "version": "3.6.4"
  }
 },
 "nbformat": 4,
 "nbformat_minor": 1
}
